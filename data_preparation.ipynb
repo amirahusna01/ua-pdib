{
  "cells": [
    {
      "cell_type": "markdown",
      "metadata": {
        "id": "CiEObI-gxIO1"
      },
      "source": [
        "#Tugas 4 PDIB\n",
        "##Amira Husna Nur Adilah\n",
        "##2006531825\n",
        "\n",
        "Catatan: Untuk cell yang prosesnya menggunakan Geopandas dan Nominatim akan memakan waktu run selama 15 hingga 30 menit mengingat jumlah data yang cukup banyak."
      ]
    },
    {
      "cell_type": "code",
      "execution_count": 3,
      "metadata": {
        "id": "8UgHMnZXdpBr"
      },
      "outputs": [],
      "source": [
        "# import libraries needed\n",
        "from scipy import stats\n",
        "import pandas as pd\n",
        "import numpy as np\n",
        "import seaborn as sns\n",
        "import matplotlib.pyplot as plt\n",
        "from sklearn import preprocessing\n",
        "import geopandas as gpd\n",
        "import geopy\n",
        "from geopy.geocoders import Nominatim\n",
        "pd.options.mode.chained_assignment = None  # default='warn'"
      ]
    },
    {
      "cell_type": "code",
      "execution_count": 2,
      "metadata": {
        "colab": {
          "base_uri": "https://localhost:8080/"
        },
        "id": "wZqKIW_ncNd3",
        "outputId": "ae0b172d-9f03-46fc-c30b-97b298fbc474"
      },
      "outputs": [
        {
          "name": "stdout",
          "output_type": "stream",
          "text": [
            "Looking in indexes: https://pypi.org/simple, https://us-python.pkg.dev/colab-wheels/public/simple/\n",
            "Collecting geopandas\n",
            "  Downloading geopandas-0.10.2-py2.py3-none-any.whl (1.0 MB)\n",
            "\u001b[K     |████████████████████████████████| 1.0 MB 4.7 MB/s \n",
            "\u001b[?25hRequirement already satisfied: pandas>=0.25.0 in /usr/local/lib/python3.7/dist-packages (from geopandas) (1.3.5)\n",
            "Requirement already satisfied: shapely>=1.6 in /usr/local/lib/python3.7/dist-packages (from geopandas) (1.8.5.post1)\n",
            "Collecting fiona>=1.8\n",
            "  Downloading Fiona-1.8.22-cp37-cp37m-manylinux2014_x86_64.whl (16.7 MB)\n",
            "\u001b[K     |████████████████████████████████| 16.7 MB 45.2 MB/s \n",
            "\u001b[?25hCollecting pyproj>=2.2.0\n",
            "  Downloading pyproj-3.2.1-cp37-cp37m-manylinux2010_x86_64.whl (6.3 MB)\n",
            "\u001b[K     |████████████████████████████████| 6.3 MB 40.9 MB/s \n",
            "\u001b[?25hCollecting click-plugins>=1.0\n",
            "  Downloading click_plugins-1.1.1-py2.py3-none-any.whl (7.5 kB)\n",
            "Requirement already satisfied: setuptools in /usr/local/lib/python3.7/dist-packages (from fiona>=1.8->geopandas) (57.4.0)\n",
            "Collecting cligj>=0.5\n",
            "  Downloading cligj-0.7.2-py3-none-any.whl (7.1 kB)\n",
            "Collecting munch\n",
            "  Downloading munch-2.5.0-py2.py3-none-any.whl (10 kB)\n",
            "Requirement already satisfied: click>=4.0 in /usr/local/lib/python3.7/dist-packages (from fiona>=1.8->geopandas) (7.1.2)\n",
            "Requirement already satisfied: six>=1.7 in /usr/local/lib/python3.7/dist-packages (from fiona>=1.8->geopandas) (1.15.0)\n",
            "Requirement already satisfied: attrs>=17 in /usr/local/lib/python3.7/dist-packages (from fiona>=1.8->geopandas) (22.1.0)\n",
            "Requirement already satisfied: certifi in /usr/local/lib/python3.7/dist-packages (from fiona>=1.8->geopandas) (2022.9.24)\n",
            "Requirement already satisfied: numpy>=1.17.3 in /usr/local/lib/python3.7/dist-packages (from pandas>=0.25.0->geopandas) (1.21.6)\n",
            "Requirement already satisfied: pytz>=2017.3 in /usr/local/lib/python3.7/dist-packages (from pandas>=0.25.0->geopandas) (2022.6)\n",
            "Requirement already satisfied: python-dateutil>=2.7.3 in /usr/local/lib/python3.7/dist-packages (from pandas>=0.25.0->geopandas) (2.8.2)\n",
            "Installing collected packages: munch, cligj, click-plugins, pyproj, fiona, geopandas\n",
            "Successfully installed click-plugins-1.1.1 cligj-0.7.2 fiona-1.8.22 geopandas-0.10.2 munch-2.5.0 pyproj-3.2.1\n"
          ]
        }
      ],
      "source": [
        "!pip install geopandas"
      ]
    },
    {
      "cell_type": "code",
      "execution_count": 4,
      "metadata": {
        "colab": {
          "base_uri": "https://localhost:8080/"
        },
        "id": "egcu7BlumgB3",
        "outputId": "eb0d4551-b633-4b98-8097-327963058977"
      },
      "outputs": [
        {
          "name": "stdout",
          "output_type": "stream",
          "text": [
            "Mounted at /content/drive\n"
          ]
        }
      ],
      "source": [
        "from google.colab import drive\n",
        "drive.mount('/content/drive', force_remount = True)"
      ]
    },
    {
      "cell_type": "code",
      "execution_count": 5,
      "metadata": {
        "id": "RJXTPDr5dpBv"
      },
      "outputs": [],
      "source": [
        "# import data\n",
        "df = pd.read_csv('drive/MyDrive/Coolyeah/PDIB/Tugas 4/dataset_harga_rumah.csv', low_memory = False)"
      ]
    },
    {
      "cell_type": "code",
      "execution_count": 6,
      "metadata": {
        "colab": {
          "base_uri": "https://localhost:8080/",
          "height": 322
        },
        "id": "g6hf31oDdpBw",
        "outputId": "10037d74-d399-4b46-a986-6a1eea8e00a7"
      },
      "outputs": [
        {
          "data": {
            "text/html": [
              "\n",
              "  <div id=\"df-11abe35c-2fd9-4e69-ac17-ed44267a071e\">\n",
              "    <div class=\"colab-df-container\">\n",
              "      <div>\n",
              "<style scoped>\n",
              "    .dataframe tbody tr th:only-of-type {\n",
              "        vertical-align: middle;\n",
              "    }\n",
              "\n",
              "    .dataframe tbody tr th {\n",
              "        vertical-align: top;\n",
              "    }\n",
              "\n",
              "    .dataframe thead th {\n",
              "        text-align: right;\n",
              "    }\n",
              "</style>\n",
              "<table border=\"1\" class=\"dataframe\">\n",
              "  <thead>\n",
              "    <tr style=\"text-align: right;\">\n",
              "      <th></th>\n",
              "      <th>diposting_oleh</th>\n",
              "      <th>sedang_pembangunan</th>\n",
              "      <th>disetujui_pemerintah</th>\n",
              "      <th>total_ruangan</th>\n",
              "      <th>tipe_a_atau_b</th>\n",
              "      <th>kaki_persegi</th>\n",
              "      <th>siap_pindah</th>\n",
              "      <th>dijual_kembali</th>\n",
              "      <th>alamat</th>\n",
              "      <th>longitude</th>\n",
              "      <th>latitude</th>\n",
              "      <th>harga</th>\n",
              "    </tr>\n",
              "  </thead>\n",
              "  <tbody>\n",
              "    <tr>\n",
              "      <th>0</th>\n",
              "      <td>Owner</td>\n",
              "      <td>0.0</td>\n",
              "      <td>0</td>\n",
              "      <td>2.0</td>\n",
              "      <td>tipe_a</td>\n",
              "      <td>1300.236407</td>\n",
              "      <td>1</td>\n",
              "      <td>1</td>\n",
              "      <td>Ksfc Layout,Bangalore</td>\n",
              "      <td>12.969910</td>\n",
              "      <td>77.597960</td>\n",
              "      <td>55.0</td>\n",
              "    </tr>\n",
              "    <tr>\n",
              "      <th>1</th>\n",
              "      <td>Dealer</td>\n",
              "      <td>0.0</td>\n",
              "      <td>0</td>\n",
              "      <td>2.0</td>\n",
              "      <td>tipe_a</td>\n",
              "      <td>1275.0</td>\n",
              "      <td>1</td>\n",
              "      <td>1</td>\n",
              "      <td>Vishweshwara Nagar,Mysore</td>\n",
              "      <td>12.274538</td>\n",
              "      <td>76.644605</td>\n",
              "      <td>51.0</td>\n",
              "    </tr>\n",
              "    <tr>\n",
              "      <th>2</th>\n",
              "      <td>Owner</td>\n",
              "      <td>0.0</td>\n",
              "      <td>0</td>\n",
              "      <td>2.0</td>\n",
              "      <td>tipe_a</td>\n",
              "      <td>933.1597222</td>\n",
              "      <td>1</td>\n",
              "      <td>1</td>\n",
              "      <td>Jigani,Bangalore</td>\n",
              "      <td>12.778033</td>\n",
              "      <td>77.632191</td>\n",
              "      <td>43.0</td>\n",
              "    </tr>\n",
              "    <tr>\n",
              "      <th>3</th>\n",
              "      <td>Owner</td>\n",
              "      <td>0.0</td>\n",
              "      <td>1</td>\n",
              "      <td>2.0</td>\n",
              "      <td>tipe_a</td>\n",
              "      <td>929.9211427</td>\n",
              "      <td>1</td>\n",
              "      <td>1</td>\n",
              "      <td>Sector-1 Vaishali,Ghaziabad</td>\n",
              "      <td>28.642300</td>\n",
              "      <td>77.344500</td>\n",
              "      <td>62.5</td>\n",
              "    </tr>\n",
              "    <tr>\n",
              "      <th>4</th>\n",
              "      <td>Dealer</td>\n",
              "      <td>1.0</td>\n",
              "      <td>0</td>\n",
              "      <td>2.0</td>\n",
              "      <td>tipe_a</td>\n",
              "      <td>999.009247</td>\n",
              "      <td>0</td>\n",
              "      <td>1</td>\n",
              "      <td>New Town,Kolkata</td>\n",
              "      <td>22.592200</td>\n",
              "      <td>88.484911</td>\n",
              "      <td>60.5</td>\n",
              "    </tr>\n",
              "  </tbody>\n",
              "</table>\n",
              "</div>\n",
              "      <button class=\"colab-df-convert\" onclick=\"convertToInteractive('df-11abe35c-2fd9-4e69-ac17-ed44267a071e')\"\n",
              "              title=\"Convert this dataframe to an interactive table.\"\n",
              "              style=\"display:none;\">\n",
              "        \n",
              "  <svg xmlns=\"http://www.w3.org/2000/svg\" height=\"24px\"viewBox=\"0 0 24 24\"\n",
              "       width=\"24px\">\n",
              "    <path d=\"M0 0h24v24H0V0z\" fill=\"none\"/>\n",
              "    <path d=\"M18.56 5.44l.94 2.06.94-2.06 2.06-.94-2.06-.94-.94-2.06-.94 2.06-2.06.94zm-11 1L8.5 8.5l.94-2.06 2.06-.94-2.06-.94L8.5 2.5l-.94 2.06-2.06.94zm10 10l.94 2.06.94-2.06 2.06-.94-2.06-.94-.94-2.06-.94 2.06-2.06.94z\"/><path d=\"M17.41 7.96l-1.37-1.37c-.4-.4-.92-.59-1.43-.59-.52 0-1.04.2-1.43.59L10.3 9.45l-7.72 7.72c-.78.78-.78 2.05 0 2.83L4 21.41c.39.39.9.59 1.41.59.51 0 1.02-.2 1.41-.59l7.78-7.78 2.81-2.81c.8-.78.8-2.07 0-2.86zM5.41 20L4 18.59l7.72-7.72 1.47 1.35L5.41 20z\"/>\n",
              "  </svg>\n",
              "      </button>\n",
              "      \n",
              "  <style>\n",
              "    .colab-df-container {\n",
              "      display:flex;\n",
              "      flex-wrap:wrap;\n",
              "      gap: 12px;\n",
              "    }\n",
              "\n",
              "    .colab-df-convert {\n",
              "      background-color: #E8F0FE;\n",
              "      border: none;\n",
              "      border-radius: 50%;\n",
              "      cursor: pointer;\n",
              "      display: none;\n",
              "      fill: #1967D2;\n",
              "      height: 32px;\n",
              "      padding: 0 0 0 0;\n",
              "      width: 32px;\n",
              "    }\n",
              "\n",
              "    .colab-df-convert:hover {\n",
              "      background-color: #E2EBFA;\n",
              "      box-shadow: 0px 1px 2px rgba(60, 64, 67, 0.3), 0px 1px 3px 1px rgba(60, 64, 67, 0.15);\n",
              "      fill: #174EA6;\n",
              "    }\n",
              "\n",
              "    [theme=dark] .colab-df-convert {\n",
              "      background-color: #3B4455;\n",
              "      fill: #D2E3FC;\n",
              "    }\n",
              "\n",
              "    [theme=dark] .colab-df-convert:hover {\n",
              "      background-color: #434B5C;\n",
              "      box-shadow: 0px 1px 3px 1px rgba(0, 0, 0, 0.15);\n",
              "      filter: drop-shadow(0px 1px 2px rgba(0, 0, 0, 0.3));\n",
              "      fill: #FFFFFF;\n",
              "    }\n",
              "  </style>\n",
              "\n",
              "      <script>\n",
              "        const buttonEl =\n",
              "          document.querySelector('#df-11abe35c-2fd9-4e69-ac17-ed44267a071e button.colab-df-convert');\n",
              "        buttonEl.style.display =\n",
              "          google.colab.kernel.accessAllowed ? 'block' : 'none';\n",
              "\n",
              "        async function convertToInteractive(key) {\n",
              "          const element = document.querySelector('#df-11abe35c-2fd9-4e69-ac17-ed44267a071e');\n",
              "          const dataTable =\n",
              "            await google.colab.kernel.invokeFunction('convertToInteractive',\n",
              "                                                     [key], {});\n",
              "          if (!dataTable) return;\n",
              "\n",
              "          const docLinkHtml = 'Like what you see? Visit the ' +\n",
              "            '<a target=\"_blank\" href=https://colab.research.google.com/notebooks/data_table.ipynb>data table notebook</a>'\n",
              "            + ' to learn more about interactive tables.';\n",
              "          element.innerHTML = '';\n",
              "          dataTable['output_type'] = 'display_data';\n",
              "          await google.colab.output.renderOutput(dataTable, element);\n",
              "          const docLink = document.createElement('div');\n",
              "          docLink.innerHTML = docLinkHtml;\n",
              "          element.appendChild(docLink);\n",
              "        }\n",
              "      </script>\n",
              "    </div>\n",
              "  </div>\n",
              "  "
            ],
            "text/plain": [
              "  diposting_oleh  sedang_pembangunan  disetujui_pemerintah  total_ruangan  \\\n",
              "0          Owner                 0.0                     0            2.0   \n",
              "1         Dealer                 0.0                     0            2.0   \n",
              "2          Owner                 0.0                     0            2.0   \n",
              "3          Owner                 0.0                     1            2.0   \n",
              "4         Dealer                 1.0                     0            2.0   \n",
              "\n",
              "  tipe_a_atau_b kaki_persegi siap_pindah dijual_kembali  \\\n",
              "0        tipe_a  1300.236407           1              1   \n",
              "1        tipe_a       1275.0           1              1   \n",
              "2        tipe_a  933.1597222           1              1   \n",
              "3        tipe_a  929.9211427           1              1   \n",
              "4        tipe_a   999.009247           0              1   \n",
              "\n",
              "                        alamat  longitude   latitude  harga  \n",
              "0        Ksfc Layout,Bangalore  12.969910  77.597960   55.0  \n",
              "1    Vishweshwara Nagar,Mysore  12.274538  76.644605   51.0  \n",
              "2             Jigani,Bangalore  12.778033  77.632191   43.0  \n",
              "3  Sector-1 Vaishali,Ghaziabad  28.642300  77.344500   62.5  \n",
              "4             New Town,Kolkata  22.592200  88.484911   60.5  "
            ]
          },
          "execution_count": 6,
          "metadata": {},
          "output_type": "execute_result"
        }
      ],
      "source": [
        "# menampilkan 5 baris pertama dataset\n",
        "df.head()"
      ]
    },
    {
      "cell_type": "code",
      "execution_count": 7,
      "metadata": {
        "colab": {
          "base_uri": "https://localhost:8080/",
          "height": 305
        },
        "id": "T_XEMM9ndpBx",
        "outputId": "d4ee0961-02ee-4621-deaf-296bfd42c225"
      },
      "outputs": [
        {
          "data": {
            "text/html": [
              "\n",
              "  <div id=\"df-b49c00e1-0ad5-40fb-a84d-6975898bd9ad\">\n",
              "    <div class=\"colab-df-container\">\n",
              "      <div>\n",
              "<style scoped>\n",
              "    .dataframe tbody tr th:only-of-type {\n",
              "        vertical-align: middle;\n",
              "    }\n",
              "\n",
              "    .dataframe tbody tr th {\n",
              "        vertical-align: top;\n",
              "    }\n",
              "\n",
              "    .dataframe thead th {\n",
              "        text-align: right;\n",
              "    }\n",
              "</style>\n",
              "<table border=\"1\" class=\"dataframe\">\n",
              "  <thead>\n",
              "    <tr style=\"text-align: right;\">\n",
              "      <th></th>\n",
              "      <th>diposting_oleh</th>\n",
              "      <th>sedang_pembangunan</th>\n",
              "      <th>disetujui_pemerintah</th>\n",
              "      <th>total_ruangan</th>\n",
              "      <th>tipe_a_atau_b</th>\n",
              "      <th>kaki_persegi</th>\n",
              "      <th>siap_pindah</th>\n",
              "      <th>dijual_kembali</th>\n",
              "      <th>alamat</th>\n",
              "      <th>longitude</th>\n",
              "      <th>latitude</th>\n",
              "      <th>harga</th>\n",
              "    </tr>\n",
              "  </thead>\n",
              "  <tbody>\n",
              "    <tr>\n",
              "      <th>29446</th>\n",
              "      <td>Owner</td>\n",
              "      <td>0.0</td>\n",
              "      <td>0</td>\n",
              "      <td>3.0</td>\n",
              "      <td>tipe_a</td>\n",
              "      <td>2500.0</td>\n",
              "      <td>1</td>\n",
              "      <td>1</td>\n",
              "      <td>Shamshabad Road,Agra</td>\n",
              "      <td>27.140626</td>\n",
              "      <td>78.043277</td>\n",
              "      <td>45.0</td>\n",
              "    </tr>\n",
              "    <tr>\n",
              "      <th>29447</th>\n",
              "      <td>Owner</td>\n",
              "      <td>0.0</td>\n",
              "      <td>0</td>\n",
              "      <td>2.0</td>\n",
              "      <td>tipe_a</td>\n",
              "      <td>769.2307692</td>\n",
              "      <td>1</td>\n",
              "      <td>1</td>\n",
              "      <td>E3-108, Lake View Recidency,,Vapi</td>\n",
              "      <td>39.945409</td>\n",
              "      <td>-86.150721</td>\n",
              "      <td>16.0</td>\n",
              "    </tr>\n",
              "    <tr>\n",
              "      <th>29448</th>\n",
              "      <td>Dealer</td>\n",
              "      <td>0.0</td>\n",
              "      <td>0</td>\n",
              "      <td>2.0</td>\n",
              "      <td>tipe_a</td>\n",
              "      <td>1022.641509</td>\n",
              "      <td>1</td>\n",
              "      <td>1</td>\n",
              "      <td>Ajmer Road,Jaipur</td>\n",
              "      <td>26.928785</td>\n",
              "      <td>75.828002</td>\n",
              "      <td>27.1</td>\n",
              "    </tr>\n",
              "    <tr>\n",
              "      <th>29449</th>\n",
              "      <td>Owner</td>\n",
              "      <td>0.0</td>\n",
              "      <td>0</td>\n",
              "      <td>2.0</td>\n",
              "      <td>tipe_a</td>\n",
              "      <td>927.0790093</td>\n",
              "      <td>1</td>\n",
              "      <td>1</td>\n",
              "      <td>Sholinganallur,Chennai</td>\n",
              "      <td>12.900150</td>\n",
              "      <td>80.227910</td>\n",
              "      <td>67.0</td>\n",
              "    </tr>\n",
              "    <tr>\n",
              "      <th>29450</th>\n",
              "      <td>Dealer</td>\n",
              "      <td>0.0</td>\n",
              "      <td>1</td>\n",
              "      <td>2.0</td>\n",
              "      <td>tipe_a</td>\n",
              "      <td>896.7741935</td>\n",
              "      <td>1</td>\n",
              "      <td>1</td>\n",
              "      <td>Jagatpura,Jaipur</td>\n",
              "      <td>26.832353</td>\n",
              "      <td>75.841749</td>\n",
              "      <td>27.8</td>\n",
              "    </tr>\n",
              "  </tbody>\n",
              "</table>\n",
              "</div>\n",
              "      <button class=\"colab-df-convert\" onclick=\"convertToInteractive('df-b49c00e1-0ad5-40fb-a84d-6975898bd9ad')\"\n",
              "              title=\"Convert this dataframe to an interactive table.\"\n",
              "              style=\"display:none;\">\n",
              "        \n",
              "  <svg xmlns=\"http://www.w3.org/2000/svg\" height=\"24px\"viewBox=\"0 0 24 24\"\n",
              "       width=\"24px\">\n",
              "    <path d=\"M0 0h24v24H0V0z\" fill=\"none\"/>\n",
              "    <path d=\"M18.56 5.44l.94 2.06.94-2.06 2.06-.94-2.06-.94-.94-2.06-.94 2.06-2.06.94zm-11 1L8.5 8.5l.94-2.06 2.06-.94-2.06-.94L8.5 2.5l-.94 2.06-2.06.94zm10 10l.94 2.06.94-2.06 2.06-.94-2.06-.94-.94-2.06-.94 2.06-2.06.94z\"/><path d=\"M17.41 7.96l-1.37-1.37c-.4-.4-.92-.59-1.43-.59-.52 0-1.04.2-1.43.59L10.3 9.45l-7.72 7.72c-.78.78-.78 2.05 0 2.83L4 21.41c.39.39.9.59 1.41.59.51 0 1.02-.2 1.41-.59l7.78-7.78 2.81-2.81c.8-.78.8-2.07 0-2.86zM5.41 20L4 18.59l7.72-7.72 1.47 1.35L5.41 20z\"/>\n",
              "  </svg>\n",
              "      </button>\n",
              "      \n",
              "  <style>\n",
              "    .colab-df-container {\n",
              "      display:flex;\n",
              "      flex-wrap:wrap;\n",
              "      gap: 12px;\n",
              "    }\n",
              "\n",
              "    .colab-df-convert {\n",
              "      background-color: #E8F0FE;\n",
              "      border: none;\n",
              "      border-radius: 50%;\n",
              "      cursor: pointer;\n",
              "      display: none;\n",
              "      fill: #1967D2;\n",
              "      height: 32px;\n",
              "      padding: 0 0 0 0;\n",
              "      width: 32px;\n",
              "    }\n",
              "\n",
              "    .colab-df-convert:hover {\n",
              "      background-color: #E2EBFA;\n",
              "      box-shadow: 0px 1px 2px rgba(60, 64, 67, 0.3), 0px 1px 3px 1px rgba(60, 64, 67, 0.15);\n",
              "      fill: #174EA6;\n",
              "    }\n",
              "\n",
              "    [theme=dark] .colab-df-convert {\n",
              "      background-color: #3B4455;\n",
              "      fill: #D2E3FC;\n",
              "    }\n",
              "\n",
              "    [theme=dark] .colab-df-convert:hover {\n",
              "      background-color: #434B5C;\n",
              "      box-shadow: 0px 1px 3px 1px rgba(0, 0, 0, 0.15);\n",
              "      filter: drop-shadow(0px 1px 2px rgba(0, 0, 0, 0.3));\n",
              "      fill: #FFFFFF;\n",
              "    }\n",
              "  </style>\n",
              "\n",
              "      <script>\n",
              "        const buttonEl =\n",
              "          document.querySelector('#df-b49c00e1-0ad5-40fb-a84d-6975898bd9ad button.colab-df-convert');\n",
              "        buttonEl.style.display =\n",
              "          google.colab.kernel.accessAllowed ? 'block' : 'none';\n",
              "\n",
              "        async function convertToInteractive(key) {\n",
              "          const element = document.querySelector('#df-b49c00e1-0ad5-40fb-a84d-6975898bd9ad');\n",
              "          const dataTable =\n",
              "            await google.colab.kernel.invokeFunction('convertToInteractive',\n",
              "                                                     [key], {});\n",
              "          if (!dataTable) return;\n",
              "\n",
              "          const docLinkHtml = 'Like what you see? Visit the ' +\n",
              "            '<a target=\"_blank\" href=https://colab.research.google.com/notebooks/data_table.ipynb>data table notebook</a>'\n",
              "            + ' to learn more about interactive tables.';\n",
              "          element.innerHTML = '';\n",
              "          dataTable['output_type'] = 'display_data';\n",
              "          await google.colab.output.renderOutput(dataTable, element);\n",
              "          const docLink = document.createElement('div');\n",
              "          docLink.innerHTML = docLinkHtml;\n",
              "          element.appendChild(docLink);\n",
              "        }\n",
              "      </script>\n",
              "    </div>\n",
              "  </div>\n",
              "  "
            ],
            "text/plain": [
              "      diposting_oleh  sedang_pembangunan  disetujui_pemerintah  total_ruangan  \\\n",
              "29446          Owner                 0.0                     0            3.0   \n",
              "29447          Owner                 0.0                     0            2.0   \n",
              "29448         Dealer                 0.0                     0            2.0   \n",
              "29449          Owner                 0.0                     0            2.0   \n",
              "29450         Dealer                 0.0                     1            2.0   \n",
              "\n",
              "      tipe_a_atau_b kaki_persegi siap_pindah dijual_kembali  \\\n",
              "29446        tipe_a       2500.0           1              1   \n",
              "29447        tipe_a  769.2307692           1              1   \n",
              "29448        tipe_a  1022.641509           1              1   \n",
              "29449        tipe_a  927.0790093           1              1   \n",
              "29450        tipe_a  896.7741935           1              1   \n",
              "\n",
              "                                  alamat  longitude   latitude  harga  \n",
              "29446               Shamshabad Road,Agra  27.140626  78.043277   45.0  \n",
              "29447  E3-108, Lake View Recidency,,Vapi  39.945409 -86.150721   16.0  \n",
              "29448                  Ajmer Road,Jaipur  26.928785  75.828002   27.1  \n",
              "29449             Sholinganallur,Chennai  12.900150  80.227910   67.0  \n",
              "29450                   Jagatpura,Jaipur  26.832353  75.841749   27.8  "
            ]
          },
          "execution_count": 7,
          "metadata": {},
          "output_type": "execute_result"
        }
      ],
      "source": [
        "# menampilkan 5 baris terakhir dataset\n",
        "df.tail()"
      ]
    },
    {
      "cell_type": "code",
      "execution_count": 8,
      "metadata": {
        "colab": {
          "base_uri": "https://localhost:8080/"
        },
        "id": "A7kzJDMldpBy",
        "outputId": "f046c8b5-bf22-41e2-f719-4ce484c48ac1"
      },
      "outputs": [
        {
          "data": {
            "text/plain": [
              "(29451, 12)"
            ]
          },
          "execution_count": 8,
          "metadata": {},
          "output_type": "execute_result"
        }
      ],
      "source": [
        "# menampilkan dimensi data\n",
        "df.shape"
      ]
    },
    {
      "cell_type": "code",
      "execution_count": 9,
      "metadata": {
        "colab": {
          "base_uri": "https://localhost:8080/"
        },
        "id": "UoctskUPdpBz",
        "outputId": "4ea9da89-5fb2-4d4f-8019-88dbaa266992"
      },
      "outputs": [
        {
          "name": "stdout",
          "output_type": "stream",
          "text": [
            "<class 'pandas.core.frame.DataFrame'>\n",
            "RangeIndex: 29451 entries, 0 to 29450\n",
            "Data columns (total 12 columns):\n",
            " #   Column                Non-Null Count  Dtype  \n",
            "---  ------                --------------  -----  \n",
            " 0   diposting_oleh        29451 non-null  object \n",
            " 1   sedang_pembangunan    27476 non-null  float64\n",
            " 2   disetujui_pemerintah  29451 non-null  int64  \n",
            " 3   total_ruangan         28071 non-null  float64\n",
            " 4   tipe_a_atau_b         29451 non-null  object \n",
            " 5   kaki_persegi          27765 non-null  object \n",
            " 6   siap_pindah           29451 non-null  object \n",
            " 7   dijual_kembali        29451 non-null  object \n",
            " 8   alamat                27436 non-null  object \n",
            " 9   longitude             29451 non-null  float64\n",
            " 10  latitude              26008 non-null  float64\n",
            " 11  harga                 29451 non-null  float64\n",
            "dtypes: float64(5), int64(1), object(6)\n",
            "memory usage: 2.7+ MB\n"
          ]
        }
      ],
      "source": [
        "# menampilkan informasi data\n",
        "df.info()"
      ]
    },
    {
      "cell_type": "code",
      "execution_count": 10,
      "metadata": {
        "colab": {
          "base_uri": "https://localhost:8080/",
          "height": 300
        },
        "id": "JSY49YindpBz",
        "outputId": "f8bad6ab-29e3-4ab3-9fcf-ef7d55f6f7fb"
      },
      "outputs": [
        {
          "data": {
            "text/html": [
              "\n",
              "  <div id=\"df-7b2d2ef0-7232-4c48-a009-1b7655487e37\">\n",
              "    <div class=\"colab-df-container\">\n",
              "      <div>\n",
              "<style scoped>\n",
              "    .dataframe tbody tr th:only-of-type {\n",
              "        vertical-align: middle;\n",
              "    }\n",
              "\n",
              "    .dataframe tbody tr th {\n",
              "        vertical-align: top;\n",
              "    }\n",
              "\n",
              "    .dataframe thead th {\n",
              "        text-align: right;\n",
              "    }\n",
              "</style>\n",
              "<table border=\"1\" class=\"dataframe\">\n",
              "  <thead>\n",
              "    <tr style=\"text-align: right;\">\n",
              "      <th></th>\n",
              "      <th>sedang_pembangunan</th>\n",
              "      <th>disetujui_pemerintah</th>\n",
              "      <th>total_ruangan</th>\n",
              "      <th>longitude</th>\n",
              "      <th>latitude</th>\n",
              "      <th>harga</th>\n",
              "    </tr>\n",
              "  </thead>\n",
              "  <tbody>\n",
              "    <tr>\n",
              "      <th>count</th>\n",
              "      <td>27476.000000</td>\n",
              "      <td>29451.000000</td>\n",
              "      <td>28071.000000</td>\n",
              "      <td>29451.000000</td>\n",
              "      <td>26008.000000</td>\n",
              "      <td>29451.000000</td>\n",
              "    </tr>\n",
              "    <tr>\n",
              "      <th>mean</th>\n",
              "      <td>0.179684</td>\n",
              "      <td>0.317918</td>\n",
              "      <td>2.392220</td>\n",
              "      <td>21.300255</td>\n",
              "      <td>76.820157</td>\n",
              "      <td>142.898746</td>\n",
              "    </tr>\n",
              "    <tr>\n",
              "      <th>std</th>\n",
              "      <td>0.383931</td>\n",
              "      <td>0.465675</td>\n",
              "      <td>0.882229</td>\n",
              "      <td>6.205306</td>\n",
              "      <td>10.697823</td>\n",
              "      <td>656.880713</td>\n",
              "    </tr>\n",
              "    <tr>\n",
              "      <th>min</th>\n",
              "      <td>0.000000</td>\n",
              "      <td>0.000000</td>\n",
              "      <td>1.000000</td>\n",
              "      <td>-37.713008</td>\n",
              "      <td>-121.761248</td>\n",
              "      <td>0.250000</td>\n",
              "    </tr>\n",
              "    <tr>\n",
              "      <th>25%</th>\n",
              "      <td>0.000000</td>\n",
              "      <td>0.000000</td>\n",
              "      <td>2.000000</td>\n",
              "      <td>18.452663</td>\n",
              "      <td>73.798100</td>\n",
              "      <td>38.000000</td>\n",
              "    </tr>\n",
              "    <tr>\n",
              "      <th>50%</th>\n",
              "      <td>0.000000</td>\n",
              "      <td>0.000000</td>\n",
              "      <td>2.000000</td>\n",
              "      <td>20.750000</td>\n",
              "      <td>77.326330</td>\n",
              "      <td>62.000000</td>\n",
              "    </tr>\n",
              "    <tr>\n",
              "      <th>75%</th>\n",
              "      <td>0.000000</td>\n",
              "      <td>1.000000</td>\n",
              "      <td>3.000000</td>\n",
              "      <td>26.900926</td>\n",
              "      <td>77.943705</td>\n",
              "      <td>100.000000</td>\n",
              "    </tr>\n",
              "    <tr>\n",
              "      <th>max</th>\n",
              "      <td>1.000000</td>\n",
              "      <td>1.000000</td>\n",
              "      <td>20.000000</td>\n",
              "      <td>59.912884</td>\n",
              "      <td>152.962676</td>\n",
              "      <td>30000.000000</td>\n",
              "    </tr>\n",
              "  </tbody>\n",
              "</table>\n",
              "</div>\n",
              "      <button class=\"colab-df-convert\" onclick=\"convertToInteractive('df-7b2d2ef0-7232-4c48-a009-1b7655487e37')\"\n",
              "              title=\"Convert this dataframe to an interactive table.\"\n",
              "              style=\"display:none;\">\n",
              "        \n",
              "  <svg xmlns=\"http://www.w3.org/2000/svg\" height=\"24px\"viewBox=\"0 0 24 24\"\n",
              "       width=\"24px\">\n",
              "    <path d=\"M0 0h24v24H0V0z\" fill=\"none\"/>\n",
              "    <path d=\"M18.56 5.44l.94 2.06.94-2.06 2.06-.94-2.06-.94-.94-2.06-.94 2.06-2.06.94zm-11 1L8.5 8.5l.94-2.06 2.06-.94-2.06-.94L8.5 2.5l-.94 2.06-2.06.94zm10 10l.94 2.06.94-2.06 2.06-.94-2.06-.94-.94-2.06-.94 2.06-2.06.94z\"/><path d=\"M17.41 7.96l-1.37-1.37c-.4-.4-.92-.59-1.43-.59-.52 0-1.04.2-1.43.59L10.3 9.45l-7.72 7.72c-.78.78-.78 2.05 0 2.83L4 21.41c.39.39.9.59 1.41.59.51 0 1.02-.2 1.41-.59l7.78-7.78 2.81-2.81c.8-.78.8-2.07 0-2.86zM5.41 20L4 18.59l7.72-7.72 1.47 1.35L5.41 20z\"/>\n",
              "  </svg>\n",
              "      </button>\n",
              "      \n",
              "  <style>\n",
              "    .colab-df-container {\n",
              "      display:flex;\n",
              "      flex-wrap:wrap;\n",
              "      gap: 12px;\n",
              "    }\n",
              "\n",
              "    .colab-df-convert {\n",
              "      background-color: #E8F0FE;\n",
              "      border: none;\n",
              "      border-radius: 50%;\n",
              "      cursor: pointer;\n",
              "      display: none;\n",
              "      fill: #1967D2;\n",
              "      height: 32px;\n",
              "      padding: 0 0 0 0;\n",
              "      width: 32px;\n",
              "    }\n",
              "\n",
              "    .colab-df-convert:hover {\n",
              "      background-color: #E2EBFA;\n",
              "      box-shadow: 0px 1px 2px rgba(60, 64, 67, 0.3), 0px 1px 3px 1px rgba(60, 64, 67, 0.15);\n",
              "      fill: #174EA6;\n",
              "    }\n",
              "\n",
              "    [theme=dark] .colab-df-convert {\n",
              "      background-color: #3B4455;\n",
              "      fill: #D2E3FC;\n",
              "    }\n",
              "\n",
              "    [theme=dark] .colab-df-convert:hover {\n",
              "      background-color: #434B5C;\n",
              "      box-shadow: 0px 1px 3px 1px rgba(0, 0, 0, 0.15);\n",
              "      filter: drop-shadow(0px 1px 2px rgba(0, 0, 0, 0.3));\n",
              "      fill: #FFFFFF;\n",
              "    }\n",
              "  </style>\n",
              "\n",
              "      <script>\n",
              "        const buttonEl =\n",
              "          document.querySelector('#df-7b2d2ef0-7232-4c48-a009-1b7655487e37 button.colab-df-convert');\n",
              "        buttonEl.style.display =\n",
              "          google.colab.kernel.accessAllowed ? 'block' : 'none';\n",
              "\n",
              "        async function convertToInteractive(key) {\n",
              "          const element = document.querySelector('#df-7b2d2ef0-7232-4c48-a009-1b7655487e37');\n",
              "          const dataTable =\n",
              "            await google.colab.kernel.invokeFunction('convertToInteractive',\n",
              "                                                     [key], {});\n",
              "          if (!dataTable) return;\n",
              "\n",
              "          const docLinkHtml = 'Like what you see? Visit the ' +\n",
              "            '<a target=\"_blank\" href=https://colab.research.google.com/notebooks/data_table.ipynb>data table notebook</a>'\n",
              "            + ' to learn more about interactive tables.';\n",
              "          element.innerHTML = '';\n",
              "          dataTable['output_type'] = 'display_data';\n",
              "          await google.colab.output.renderOutput(dataTable, element);\n",
              "          const docLink = document.createElement('div');\n",
              "          docLink.innerHTML = docLinkHtml;\n",
              "          element.appendChild(docLink);\n",
              "        }\n",
              "      </script>\n",
              "    </div>\n",
              "  </div>\n",
              "  "
            ],
            "text/plain": [
              "       sedang_pembangunan  disetujui_pemerintah  total_ruangan     longitude  \\\n",
              "count        27476.000000          29451.000000   28071.000000  29451.000000   \n",
              "mean             0.179684              0.317918       2.392220     21.300255   \n",
              "std              0.383931              0.465675       0.882229      6.205306   \n",
              "min              0.000000              0.000000       1.000000    -37.713008   \n",
              "25%              0.000000              0.000000       2.000000     18.452663   \n",
              "50%              0.000000              0.000000       2.000000     20.750000   \n",
              "75%              0.000000              1.000000       3.000000     26.900926   \n",
              "max              1.000000              1.000000      20.000000     59.912884   \n",
              "\n",
              "           latitude         harga  \n",
              "count  26008.000000  29451.000000  \n",
              "mean      76.820157    142.898746  \n",
              "std       10.697823    656.880713  \n",
              "min     -121.761248      0.250000  \n",
              "25%       73.798100     38.000000  \n",
              "50%       77.326330     62.000000  \n",
              "75%       77.943705    100.000000  \n",
              "max      152.962676  30000.000000  "
            ]
          },
          "execution_count": 10,
          "metadata": {},
          "output_type": "execute_result"
        }
      ],
      "source": [
        "# menampilkan statistika deskriptif data (numerik)\n",
        "df.describe()"
      ]
    },
    {
      "cell_type": "code",
      "execution_count": 11,
      "metadata": {
        "colab": {
          "base_uri": "https://localhost:8080/",
          "height": 175
        },
        "id": "QKeaG6K-rDLn",
        "outputId": "1844f90e-bfa2-4368-c5ca-ab500fd4a479"
      },
      "outputs": [
        {
          "data": {
            "text/html": [
              "\n",
              "  <div id=\"df-5944775c-b9a0-4682-a3dd-83fb5f8d94e7\">\n",
              "    <div class=\"colab-df-container\">\n",
              "      <div>\n",
              "<style scoped>\n",
              "    .dataframe tbody tr th:only-of-type {\n",
              "        vertical-align: middle;\n",
              "    }\n",
              "\n",
              "    .dataframe tbody tr th {\n",
              "        vertical-align: top;\n",
              "    }\n",
              "\n",
              "    .dataframe thead th {\n",
              "        text-align: right;\n",
              "    }\n",
              "</style>\n",
              "<table border=\"1\" class=\"dataframe\">\n",
              "  <thead>\n",
              "    <tr style=\"text-align: right;\">\n",
              "      <th></th>\n",
              "      <th>diposting_oleh</th>\n",
              "      <th>tipe_a_atau_b</th>\n",
              "      <th>kaki_persegi</th>\n",
              "      <th>siap_pindah</th>\n",
              "      <th>dijual_kembali</th>\n",
              "      <th>alamat</th>\n",
              "    </tr>\n",
              "  </thead>\n",
              "  <tbody>\n",
              "    <tr>\n",
              "      <th>count</th>\n",
              "      <td>29451</td>\n",
              "      <td>29451</td>\n",
              "      <td>27765</td>\n",
              "      <td>29451</td>\n",
              "      <td>29451</td>\n",
              "      <td>27436</td>\n",
              "    </tr>\n",
              "    <tr>\n",
              "      <th>unique</th>\n",
              "      <td>3</td>\n",
              "      <td>2</td>\n",
              "      <td>18115</td>\n",
              "      <td>9</td>\n",
              "      <td>5</td>\n",
              "      <td>6648</td>\n",
              "    </tr>\n",
              "    <tr>\n",
              "      <th>top</th>\n",
              "      <td>Dealer</td>\n",
              "      <td>tipe_a</td>\n",
              "      <td>1000.0</td>\n",
              "      <td>1</td>\n",
              "      <td>1</td>\n",
              "      <td>Zirakpur,Chandigarh</td>\n",
              "    </tr>\n",
              "    <tr>\n",
              "      <th>freq</th>\n",
              "      <td>18291</td>\n",
              "      <td>29427</td>\n",
              "      <td>446</td>\n",
              "      <td>21363</td>\n",
              "      <td>23610</td>\n",
              "      <td>473</td>\n",
              "    </tr>\n",
              "  </tbody>\n",
              "</table>\n",
              "</div>\n",
              "      <button class=\"colab-df-convert\" onclick=\"convertToInteractive('df-5944775c-b9a0-4682-a3dd-83fb5f8d94e7')\"\n",
              "              title=\"Convert this dataframe to an interactive table.\"\n",
              "              style=\"display:none;\">\n",
              "        \n",
              "  <svg xmlns=\"http://www.w3.org/2000/svg\" height=\"24px\"viewBox=\"0 0 24 24\"\n",
              "       width=\"24px\">\n",
              "    <path d=\"M0 0h24v24H0V0z\" fill=\"none\"/>\n",
              "    <path d=\"M18.56 5.44l.94 2.06.94-2.06 2.06-.94-2.06-.94-.94-2.06-.94 2.06-2.06.94zm-11 1L8.5 8.5l.94-2.06 2.06-.94-2.06-.94L8.5 2.5l-.94 2.06-2.06.94zm10 10l.94 2.06.94-2.06 2.06-.94-2.06-.94-.94-2.06-.94 2.06-2.06.94z\"/><path d=\"M17.41 7.96l-1.37-1.37c-.4-.4-.92-.59-1.43-.59-.52 0-1.04.2-1.43.59L10.3 9.45l-7.72 7.72c-.78.78-.78 2.05 0 2.83L4 21.41c.39.39.9.59 1.41.59.51 0 1.02-.2 1.41-.59l7.78-7.78 2.81-2.81c.8-.78.8-2.07 0-2.86zM5.41 20L4 18.59l7.72-7.72 1.47 1.35L5.41 20z\"/>\n",
              "  </svg>\n",
              "      </button>\n",
              "      \n",
              "  <style>\n",
              "    .colab-df-container {\n",
              "      display:flex;\n",
              "      flex-wrap:wrap;\n",
              "      gap: 12px;\n",
              "    }\n",
              "\n",
              "    .colab-df-convert {\n",
              "      background-color: #E8F0FE;\n",
              "      border: none;\n",
              "      border-radius: 50%;\n",
              "      cursor: pointer;\n",
              "      display: none;\n",
              "      fill: #1967D2;\n",
              "      height: 32px;\n",
              "      padding: 0 0 0 0;\n",
              "      width: 32px;\n",
              "    }\n",
              "\n",
              "    .colab-df-convert:hover {\n",
              "      background-color: #E2EBFA;\n",
              "      box-shadow: 0px 1px 2px rgba(60, 64, 67, 0.3), 0px 1px 3px 1px rgba(60, 64, 67, 0.15);\n",
              "      fill: #174EA6;\n",
              "    }\n",
              "\n",
              "    [theme=dark] .colab-df-convert {\n",
              "      background-color: #3B4455;\n",
              "      fill: #D2E3FC;\n",
              "    }\n",
              "\n",
              "    [theme=dark] .colab-df-convert:hover {\n",
              "      background-color: #434B5C;\n",
              "      box-shadow: 0px 1px 3px 1px rgba(0, 0, 0, 0.15);\n",
              "      filter: drop-shadow(0px 1px 2px rgba(0, 0, 0, 0.3));\n",
              "      fill: #FFFFFF;\n",
              "    }\n",
              "  </style>\n",
              "\n",
              "      <script>\n",
              "        const buttonEl =\n",
              "          document.querySelector('#df-5944775c-b9a0-4682-a3dd-83fb5f8d94e7 button.colab-df-convert');\n",
              "        buttonEl.style.display =\n",
              "          google.colab.kernel.accessAllowed ? 'block' : 'none';\n",
              "\n",
              "        async function convertToInteractive(key) {\n",
              "          const element = document.querySelector('#df-5944775c-b9a0-4682-a3dd-83fb5f8d94e7');\n",
              "          const dataTable =\n",
              "            await google.colab.kernel.invokeFunction('convertToInteractive',\n",
              "                                                     [key], {});\n",
              "          if (!dataTable) return;\n",
              "\n",
              "          const docLinkHtml = 'Like what you see? Visit the ' +\n",
              "            '<a target=\"_blank\" href=https://colab.research.google.com/notebooks/data_table.ipynb>data table notebook</a>'\n",
              "            + ' to learn more about interactive tables.';\n",
              "          element.innerHTML = '';\n",
              "          dataTable['output_type'] = 'display_data';\n",
              "          await google.colab.output.renderOutput(dataTable, element);\n",
              "          const docLink = document.createElement('div');\n",
              "          docLink.innerHTML = docLinkHtml;\n",
              "          element.appendChild(docLink);\n",
              "        }\n",
              "      </script>\n",
              "    </div>\n",
              "  </div>\n",
              "  "
            ],
            "text/plain": [
              "       diposting_oleh tipe_a_atau_b kaki_persegi siap_pindah dijual_kembali  \\\n",
              "count           29451         29451        27765       29451          29451   \n",
              "unique              3             2        18115           9              5   \n",
              "top            Dealer        tipe_a       1000.0           1              1   \n",
              "freq            18291         29427          446       21363          23610   \n",
              "\n",
              "                     alamat  \n",
              "count                 27436  \n",
              "unique                 6648  \n",
              "top     Zirakpur,Chandigarh  \n",
              "freq                    473  "
            ]
          },
          "execution_count": 11,
          "metadata": {},
          "output_type": "execute_result"
        }
      ],
      "source": [
        "# menampilkan statistika deskriptif data (object)\n",
        "df.describe(include='object')"
      ]
    },
    {
      "cell_type": "code",
      "execution_count": 12,
      "metadata": {
        "colab": {
          "base_uri": "https://localhost:8080/"
        },
        "id": "aNK-U0pWtz90",
        "outputId": "11b6eed6-d736-4190-b3fb-34408549e616"
      },
      "outputs": [
        {
          "name": "stdout",
          "output_type": "stream",
          "text": [
            "diposting_oleh unique\n",
            "['Owner' 'Dealer' 'Builder']\n",
            "\n",
            "sedang_pembangunan unique\n",
            "[ 0.  1. nan]\n",
            "\n",
            "disetujui_pemerintah unique\n",
            "[0 1]\n",
            "\n",
            "total_ruangan unique\n",
            "[ 2.  3.  1.  4.  5.  6. nan 12.  8. 20. 10.  7.  9. 13. 17. 15. 11.]\n",
            "\n",
            "tipe_a_atau_b unique\n",
            "['tipe_a' 'tipe_b']\n",
            "\n",
            "kaki_persegi unique\n",
            "['1300.236407' '1275.0' '933.1597222' ... '1022.641509' '927.0790093'\n",
            " '896.7741935']\n",
            "\n",
            "siap_pindah unique\n",
            "['1' '0' 'testes' 'a' 'awa' '1-1-1-' 'benar' 'salah' 'asik']\n",
            "\n",
            "dijual_kembali unique\n",
            "['1' '0' 'Aku paling benar' 'SALAH' 'Semangat Dek']\n",
            "\n",
            "alamat unique\n",
            "['Ksfc Layout,Bangalore' 'Vishweshwara Nagar,Mysore' 'Jigani,Bangalore'\n",
            " ... 'west mambalam,Chennai' 'Gandhi Nagar,Gulbarga'\n",
            " 'E3-108, Lake View Recidency,,Vapi']\n",
            "\n",
            "longitude unique\n",
            "[12.96991  12.274538 12.778033 ... 18.9737   17.357159 39.945409]\n",
            "\n",
            "latitude unique\n",
            "[ 77.59796   76.644605  77.632191 ...  73.3321    76.841908 -86.150721]\n",
            "\n",
            "harga unique\n",
            "[  55.    51.    43.  ... 1170.  8660.    18.3]\n",
            "\n"
          ]
        }
      ],
      "source": [
        "# Mengecek nilai unik dari setiap kolom\n",
        "for col in df.columns:\n",
        "  print(col+\" unique\")\n",
        "  print(df[col].unique())\n",
        "  print()"
      ]
    },
    {
      "cell_type": "code",
      "execution_count": 13,
      "metadata": {
        "colab": {
          "base_uri": "https://localhost:8080/",
          "height": 300
        },
        "id": "XsgQ6dd6Ejwf",
        "outputId": "6a76584e-5e15-4eab-b1a4-e97704529f8b"
      },
      "outputs": [
        {
          "data": {
            "text/html": [
              "\n",
              "  <div id=\"df-cd014a8f-f04e-4601-82c4-0317a1de2d80\">\n",
              "    <div class=\"colab-df-container\">\n",
              "      <div>\n",
              "<style scoped>\n",
              "    .dataframe tbody tr th:only-of-type {\n",
              "        vertical-align: middle;\n",
              "    }\n",
              "\n",
              "    .dataframe tbody tr th {\n",
              "        vertical-align: top;\n",
              "    }\n",
              "\n",
              "    .dataframe thead th {\n",
              "        text-align: right;\n",
              "    }\n",
              "</style>\n",
              "<table border=\"1\" class=\"dataframe\">\n",
              "  <thead>\n",
              "    <tr style=\"text-align: right;\">\n",
              "      <th></th>\n",
              "      <th>sedang_pembangunan</th>\n",
              "      <th>disetujui_pemerintah</th>\n",
              "      <th>total_ruangan</th>\n",
              "      <th>longitude</th>\n",
              "      <th>latitude</th>\n",
              "      <th>harga</th>\n",
              "      <th>temp</th>\n",
              "    </tr>\n",
              "  </thead>\n",
              "  <tbody>\n",
              "    <tr>\n",
              "      <th>count</th>\n",
              "      <td>27476.000000</td>\n",
              "      <td>29451.000000</td>\n",
              "      <td>28071.000000</td>\n",
              "      <td>26008.000000</td>\n",
              "      <td>29451.000000</td>\n",
              "      <td>29451.000000</td>\n",
              "      <td>29451.000000</td>\n",
              "    </tr>\n",
              "    <tr>\n",
              "      <th>mean</th>\n",
              "      <td>0.179684</td>\n",
              "      <td>0.317918</td>\n",
              "      <td>2.392220</td>\n",
              "      <td>76.820157</td>\n",
              "      <td>21.300255</td>\n",
              "      <td>142.898746</td>\n",
              "      <td>21.300255</td>\n",
              "    </tr>\n",
              "    <tr>\n",
              "      <th>std</th>\n",
              "      <td>0.383931</td>\n",
              "      <td>0.465675</td>\n",
              "      <td>0.882229</td>\n",
              "      <td>10.697823</td>\n",
              "      <td>6.205306</td>\n",
              "      <td>656.880713</td>\n",
              "      <td>6.205306</td>\n",
              "    </tr>\n",
              "    <tr>\n",
              "      <th>min</th>\n",
              "      <td>0.000000</td>\n",
              "      <td>0.000000</td>\n",
              "      <td>1.000000</td>\n",
              "      <td>-121.761248</td>\n",
              "      <td>-37.713008</td>\n",
              "      <td>0.250000</td>\n",
              "      <td>-37.713008</td>\n",
              "    </tr>\n",
              "    <tr>\n",
              "      <th>25%</th>\n",
              "      <td>0.000000</td>\n",
              "      <td>0.000000</td>\n",
              "      <td>2.000000</td>\n",
              "      <td>73.798100</td>\n",
              "      <td>18.452663</td>\n",
              "      <td>38.000000</td>\n",
              "      <td>18.452663</td>\n",
              "    </tr>\n",
              "    <tr>\n",
              "      <th>50%</th>\n",
              "      <td>0.000000</td>\n",
              "      <td>0.000000</td>\n",
              "      <td>2.000000</td>\n",
              "      <td>77.326330</td>\n",
              "      <td>20.750000</td>\n",
              "      <td>62.000000</td>\n",
              "      <td>20.750000</td>\n",
              "    </tr>\n",
              "    <tr>\n",
              "      <th>75%</th>\n",
              "      <td>0.000000</td>\n",
              "      <td>1.000000</td>\n",
              "      <td>3.000000</td>\n",
              "      <td>77.943705</td>\n",
              "      <td>26.900926</td>\n",
              "      <td>100.000000</td>\n",
              "      <td>26.900926</td>\n",
              "    </tr>\n",
              "    <tr>\n",
              "      <th>max</th>\n",
              "      <td>1.000000</td>\n",
              "      <td>1.000000</td>\n",
              "      <td>20.000000</td>\n",
              "      <td>152.962676</td>\n",
              "      <td>59.912884</td>\n",
              "      <td>30000.000000</td>\n",
              "      <td>59.912884</td>\n",
              "    </tr>\n",
              "  </tbody>\n",
              "</table>\n",
              "</div>\n",
              "      <button class=\"colab-df-convert\" onclick=\"convertToInteractive('df-cd014a8f-f04e-4601-82c4-0317a1de2d80')\"\n",
              "              title=\"Convert this dataframe to an interactive table.\"\n",
              "              style=\"display:none;\">\n",
              "        \n",
              "  <svg xmlns=\"http://www.w3.org/2000/svg\" height=\"24px\"viewBox=\"0 0 24 24\"\n",
              "       width=\"24px\">\n",
              "    <path d=\"M0 0h24v24H0V0z\" fill=\"none\"/>\n",
              "    <path d=\"M18.56 5.44l.94 2.06.94-2.06 2.06-.94-2.06-.94-.94-2.06-.94 2.06-2.06.94zm-11 1L8.5 8.5l.94-2.06 2.06-.94-2.06-.94L8.5 2.5l-.94 2.06-2.06.94zm10 10l.94 2.06.94-2.06 2.06-.94-2.06-.94-.94-2.06-.94 2.06-2.06.94z\"/><path d=\"M17.41 7.96l-1.37-1.37c-.4-.4-.92-.59-1.43-.59-.52 0-1.04.2-1.43.59L10.3 9.45l-7.72 7.72c-.78.78-.78 2.05 0 2.83L4 21.41c.39.39.9.59 1.41.59.51 0 1.02-.2 1.41-.59l7.78-7.78 2.81-2.81c.8-.78.8-2.07 0-2.86zM5.41 20L4 18.59l7.72-7.72 1.47 1.35L5.41 20z\"/>\n",
              "  </svg>\n",
              "      </button>\n",
              "      \n",
              "  <style>\n",
              "    .colab-df-container {\n",
              "      display:flex;\n",
              "      flex-wrap:wrap;\n",
              "      gap: 12px;\n",
              "    }\n",
              "\n",
              "    .colab-df-convert {\n",
              "      background-color: #E8F0FE;\n",
              "      border: none;\n",
              "      border-radius: 50%;\n",
              "      cursor: pointer;\n",
              "      display: none;\n",
              "      fill: #1967D2;\n",
              "      height: 32px;\n",
              "      padding: 0 0 0 0;\n",
              "      width: 32px;\n",
              "    }\n",
              "\n",
              "    .colab-df-convert:hover {\n",
              "      background-color: #E2EBFA;\n",
              "      box-shadow: 0px 1px 2px rgba(60, 64, 67, 0.3), 0px 1px 3px 1px rgba(60, 64, 67, 0.15);\n",
              "      fill: #174EA6;\n",
              "    }\n",
              "\n",
              "    [theme=dark] .colab-df-convert {\n",
              "      background-color: #3B4455;\n",
              "      fill: #D2E3FC;\n",
              "    }\n",
              "\n",
              "    [theme=dark] .colab-df-convert:hover {\n",
              "      background-color: #434B5C;\n",
              "      box-shadow: 0px 1px 3px 1px rgba(0, 0, 0, 0.15);\n",
              "      filter: drop-shadow(0px 1px 2px rgba(0, 0, 0, 0.3));\n",
              "      fill: #FFFFFF;\n",
              "    }\n",
              "  </style>\n",
              "\n",
              "      <script>\n",
              "        const buttonEl =\n",
              "          document.querySelector('#df-cd014a8f-f04e-4601-82c4-0317a1de2d80 button.colab-df-convert');\n",
              "        buttonEl.style.display =\n",
              "          google.colab.kernel.accessAllowed ? 'block' : 'none';\n",
              "\n",
              "        async function convertToInteractive(key) {\n",
              "          const element = document.querySelector('#df-cd014a8f-f04e-4601-82c4-0317a1de2d80');\n",
              "          const dataTable =\n",
              "            await google.colab.kernel.invokeFunction('convertToInteractive',\n",
              "                                                     [key], {});\n",
              "          if (!dataTable) return;\n",
              "\n",
              "          const docLinkHtml = 'Like what you see? Visit the ' +\n",
              "            '<a target=\"_blank\" href=https://colab.research.google.com/notebooks/data_table.ipynb>data table notebook</a>'\n",
              "            + ' to learn more about interactive tables.';\n",
              "          element.innerHTML = '';\n",
              "          dataTable['output_type'] = 'display_data';\n",
              "          await google.colab.output.renderOutput(dataTable, element);\n",
              "          const docLink = document.createElement('div');\n",
              "          docLink.innerHTML = docLinkHtml;\n",
              "          element.appendChild(docLink);\n",
              "        }\n",
              "      </script>\n",
              "    </div>\n",
              "  </div>\n",
              "  "
            ],
            "text/plain": [
              "       sedang_pembangunan  disetujui_pemerintah  total_ruangan     longitude  \\\n",
              "count        27476.000000          29451.000000   28071.000000  26008.000000   \n",
              "mean             0.179684              0.317918       2.392220     76.820157   \n",
              "std              0.383931              0.465675       0.882229     10.697823   \n",
              "min              0.000000              0.000000       1.000000   -121.761248   \n",
              "25%              0.000000              0.000000       2.000000     73.798100   \n",
              "50%              0.000000              0.000000       2.000000     77.326330   \n",
              "75%              0.000000              1.000000       3.000000     77.943705   \n",
              "max              1.000000              1.000000      20.000000    152.962676   \n",
              "\n",
              "           latitude         harga          temp  \n",
              "count  29451.000000  29451.000000  29451.000000  \n",
              "mean      21.300255    142.898746     21.300255  \n",
              "std        6.205306    656.880713      6.205306  \n",
              "min      -37.713008      0.250000    -37.713008  \n",
              "25%       18.452663     38.000000     18.452663  \n",
              "50%       20.750000     62.000000     20.750000  \n",
              "75%       26.900926    100.000000     26.900926  \n",
              "max       59.912884  30000.000000     59.912884  "
            ]
          },
          "execution_count": 13,
          "metadata": {},
          "output_type": "execute_result"
        }
      ],
      "source": [
        "# Menukar nama kolom longitude dan latitude\n",
        "df['temp'] = df['longitude']\n",
        "df['longitude'] = df['latitude']\n",
        "df['latitude'] = df['temp']\n",
        "df.describe()"
      ]
    },
    {
      "cell_type": "code",
      "execution_count": 14,
      "metadata": {
        "colab": {
          "base_uri": "https://localhost:8080/"
        },
        "id": "EOtE7_H5rE2U",
        "outputId": "7e892f06-75c2-4b6d-da7c-8093a282c2c3"
      },
      "outputs": [
        {
          "name": "stdout",
          "output_type": "stream",
          "text": [
            "[nan 'salah' 'awa' 'benar' 'asik' 'testes' 'a']\n"
          ]
        }
      ],
      "source": [
        "# mengecek nilai tidak sesuai pada kolom kaki_persegi\n",
        "kaki_persegi_str = df[df['kaki_persegi'].astype(str).str.contains('[a-zA-Z]')][\"kaki_persegi\"]\n",
        "print(kaki_persegi_str.unique())"
      ]
    },
    {
      "cell_type": "code",
      "execution_count": 15,
      "metadata": {
        "colab": {
          "base_uri": "https://localhost:8080/"
        },
        "id": "yFayoPOfHMbj",
        "outputId": "700e1a4a-e492-4d1e-b429-5b4d69531fb0"
      },
      "outputs": [
        {
          "name": "stdout",
          "output_type": "stream",
          "text": [
            "['1-1-1-']\n"
          ]
        }
      ],
      "source": [
        "# mengecek nilai tidak sesuai pada kolom kaki_persegi\n",
        "kaki_persegi_1 = df[df['kaki_persegi'].astype(str).str.contains('1-1-')][\"kaki_persegi\"]\n",
        "print(kaki_persegi_1.unique())"
      ]
    },
    {
      "cell_type": "code",
      "execution_count": 16,
      "metadata": {
        "colab": {
          "base_uri": "https://localhost:8080/"
        },
        "id": "fzOXljRkJ5bg",
        "outputId": "31483896-fbf2-4072-dc34-1b1ad67928ba"
      },
      "outputs": [
        {
          "name": "stdout",
          "output_type": "stream",
          "text": [
            "kaki_persegi    1491\n",
            "dtype: int64\n"
          ]
        }
      ],
      "source": [
        "# Check outlier data for kaki_persegi\n",
        "kpm = df[df[\"kaki_persegi\"].notnull()]['kaki_persegi']\n",
        "kpm = pd.DataFrame(df[~df['kaki_persegi'].astype(str).str.contains('[a-zA-Z]')][\"kaki_persegi\"])\n",
        "kpm = pd.DataFrame(kpm[~kpm['kaki_persegi'].astype(str).str.contains('1-1-')][\"kaki_persegi\"])\n",
        "kpm = pd.DataFrame(kpm[kpm.notnull()][\"kaki_persegi\"]).astype(float)\n",
        "\n",
        "Q1 = kpm.quantile(0.25)\n",
        "Q3 = kpm.quantile(0.75)\n",
        "IQR = Q3 - Q1\n",
        "jumlah_outlier = kpm[((kpm < (Q1 - 1.5 * IQR)) |(kpm > (Q3 + 1.5 * IQR))).any(axis=1)].count()\n",
        "print(jumlah_outlier)"
      ]
    },
    {
      "cell_type": "code",
      "execution_count": 17,
      "metadata": {
        "id": "6Hmeq7cFvr-F"
      },
      "outputs": [],
      "source": [
        "# Melakukan validasi data\n",
        "df.loc[~df['siap_pindah'].isin(['0','1']), 'siap_pindah'] = df['siap_pindah'].mode()[0]\n",
        "df.loc[~df['dijual_kembali'].isin(['0','1']), 'dijual_kembali'] = df['dijual_kembali'].mode()[0]\n",
        "kpm_median = kpm['kaki_persegi'].median()\n",
        "df.replace({'kaki_persegi': {\"testes\": kpm_median, 'a': kpm_median, 'awa':kpm_median, '1-1-1-':kpm_median, 'benar':kpm_median, 'salah':kpm_median, 'asik':kpm_median}}, inplace=True)"
      ]
    },
    {
      "cell_type": "code",
      "execution_count": 18,
      "metadata": {
        "colab": {
          "base_uri": "https://localhost:8080/",
          "height": 175
        },
        "id": "FcyfeZEzyCS_",
        "outputId": "6a4d2e18-51fa-4de9-ff21-39bf46203f60"
      },
      "outputs": [
        {
          "data": {
            "text/html": [
              "\n",
              "  <div id=\"df-ee778eb1-a9b7-4157-98a7-0b63c67301c6\">\n",
              "    <div class=\"colab-df-container\">\n",
              "      <div>\n",
              "<style scoped>\n",
              "    .dataframe tbody tr th:only-of-type {\n",
              "        vertical-align: middle;\n",
              "    }\n",
              "\n",
              "    .dataframe tbody tr th {\n",
              "        vertical-align: top;\n",
              "    }\n",
              "\n",
              "    .dataframe thead th {\n",
              "        text-align: right;\n",
              "    }\n",
              "</style>\n",
              "<table border=\"1\" class=\"dataframe\">\n",
              "  <thead>\n",
              "    <tr style=\"text-align: right;\">\n",
              "      <th></th>\n",
              "      <th>diposting_oleh</th>\n",
              "      <th>tipe_a_atau_b</th>\n",
              "      <th>kaki_persegi</th>\n",
              "      <th>siap_pindah</th>\n",
              "      <th>dijual_kembali</th>\n",
              "      <th>alamat</th>\n",
              "    </tr>\n",
              "  </thead>\n",
              "  <tbody>\n",
              "    <tr>\n",
              "      <th>count</th>\n",
              "      <td>29451</td>\n",
              "      <td>29451</td>\n",
              "      <td>27765.000000</td>\n",
              "      <td>29451</td>\n",
              "      <td>29451</td>\n",
              "      <td>27436</td>\n",
              "    </tr>\n",
              "    <tr>\n",
              "      <th>unique</th>\n",
              "      <td>3</td>\n",
              "      <td>2</td>\n",
              "      <td>18109.000000</td>\n",
              "      <td>2</td>\n",
              "      <td>2</td>\n",
              "      <td>6648</td>\n",
              "    </tr>\n",
              "    <tr>\n",
              "      <th>top</th>\n",
              "      <td>Dealer</td>\n",
              "      <td>tipe_a</td>\n",
              "      <td>1176.470588</td>\n",
              "      <td>1</td>\n",
              "      <td>1</td>\n",
              "      <td>Zirakpur,Chandigarh</td>\n",
              "    </tr>\n",
              "    <tr>\n",
              "      <th>freq</th>\n",
              "      <td>18291</td>\n",
              "      <td>29427</td>\n",
              "      <td>1001.000000</td>\n",
              "      <td>24741</td>\n",
              "      <td>27649</td>\n",
              "      <td>473</td>\n",
              "    </tr>\n",
              "  </tbody>\n",
              "</table>\n",
              "</div>\n",
              "      <button class=\"colab-df-convert\" onclick=\"convertToInteractive('df-ee778eb1-a9b7-4157-98a7-0b63c67301c6')\"\n",
              "              title=\"Convert this dataframe to an interactive table.\"\n",
              "              style=\"display:none;\">\n",
              "        \n",
              "  <svg xmlns=\"http://www.w3.org/2000/svg\" height=\"24px\"viewBox=\"0 0 24 24\"\n",
              "       width=\"24px\">\n",
              "    <path d=\"M0 0h24v24H0V0z\" fill=\"none\"/>\n",
              "    <path d=\"M18.56 5.44l.94 2.06.94-2.06 2.06-.94-2.06-.94-.94-2.06-.94 2.06-2.06.94zm-11 1L8.5 8.5l.94-2.06 2.06-.94-2.06-.94L8.5 2.5l-.94 2.06-2.06.94zm10 10l.94 2.06.94-2.06 2.06-.94-2.06-.94-.94-2.06-.94 2.06-2.06.94z\"/><path d=\"M17.41 7.96l-1.37-1.37c-.4-.4-.92-.59-1.43-.59-.52 0-1.04.2-1.43.59L10.3 9.45l-7.72 7.72c-.78.78-.78 2.05 0 2.83L4 21.41c.39.39.9.59 1.41.59.51 0 1.02-.2 1.41-.59l7.78-7.78 2.81-2.81c.8-.78.8-2.07 0-2.86zM5.41 20L4 18.59l7.72-7.72 1.47 1.35L5.41 20z\"/>\n",
              "  </svg>\n",
              "      </button>\n",
              "      \n",
              "  <style>\n",
              "    .colab-df-container {\n",
              "      display:flex;\n",
              "      flex-wrap:wrap;\n",
              "      gap: 12px;\n",
              "    }\n",
              "\n",
              "    .colab-df-convert {\n",
              "      background-color: #E8F0FE;\n",
              "      border: none;\n",
              "      border-radius: 50%;\n",
              "      cursor: pointer;\n",
              "      display: none;\n",
              "      fill: #1967D2;\n",
              "      height: 32px;\n",
              "      padding: 0 0 0 0;\n",
              "      width: 32px;\n",
              "    }\n",
              "\n",
              "    .colab-df-convert:hover {\n",
              "      background-color: #E2EBFA;\n",
              "      box-shadow: 0px 1px 2px rgba(60, 64, 67, 0.3), 0px 1px 3px 1px rgba(60, 64, 67, 0.15);\n",
              "      fill: #174EA6;\n",
              "    }\n",
              "\n",
              "    [theme=dark] .colab-df-convert {\n",
              "      background-color: #3B4455;\n",
              "      fill: #D2E3FC;\n",
              "    }\n",
              "\n",
              "    [theme=dark] .colab-df-convert:hover {\n",
              "      background-color: #434B5C;\n",
              "      box-shadow: 0px 1px 3px 1px rgba(0, 0, 0, 0.15);\n",
              "      filter: drop-shadow(0px 1px 2px rgba(0, 0, 0, 0.3));\n",
              "      fill: #FFFFFF;\n",
              "    }\n",
              "  </style>\n",
              "\n",
              "      <script>\n",
              "        const buttonEl =\n",
              "          document.querySelector('#df-ee778eb1-a9b7-4157-98a7-0b63c67301c6 button.colab-df-convert');\n",
              "        buttonEl.style.display =\n",
              "          google.colab.kernel.accessAllowed ? 'block' : 'none';\n",
              "\n",
              "        async function convertToInteractive(key) {\n",
              "          const element = document.querySelector('#df-ee778eb1-a9b7-4157-98a7-0b63c67301c6');\n",
              "          const dataTable =\n",
              "            await google.colab.kernel.invokeFunction('convertToInteractive',\n",
              "                                                     [key], {});\n",
              "          if (!dataTable) return;\n",
              "\n",
              "          const docLinkHtml = 'Like what you see? Visit the ' +\n",
              "            '<a target=\"_blank\" href=https://colab.research.google.com/notebooks/data_table.ipynb>data table notebook</a>'\n",
              "            + ' to learn more about interactive tables.';\n",
              "          element.innerHTML = '';\n",
              "          dataTable['output_type'] = 'display_data';\n",
              "          await google.colab.output.renderOutput(dataTable, element);\n",
              "          const docLink = document.createElement('div');\n",
              "          docLink.innerHTML = docLinkHtml;\n",
              "          element.appendChild(docLink);\n",
              "        }\n",
              "      </script>\n",
              "    </div>\n",
              "  </div>\n",
              "  "
            ],
            "text/plain": [
              "       diposting_oleh tipe_a_atau_b  kaki_persegi siap_pindah dijual_kembali  \\\n",
              "count           29451         29451  27765.000000       29451          29451   \n",
              "unique              3             2  18109.000000           2              2   \n",
              "top            Dealer        tipe_a   1176.470588           1              1   \n",
              "freq            18291         29427   1001.000000       24741          27649   \n",
              "\n",
              "                     alamat  \n",
              "count                 27436  \n",
              "unique                 6648  \n",
              "top     Zirakpur,Chandigarh  \n",
              "freq                    473  "
            ]
          },
          "execution_count": 18,
          "metadata": {},
          "output_type": "execute_result"
        }
      ],
      "source": [
        "df.describe(include=\"object\")"
      ]
    },
    {
      "cell_type": "code",
      "execution_count": 19,
      "metadata": {
        "colab": {
          "base_uri": "https://localhost:8080/"
        },
        "id": "7gkKw-3N5dbL",
        "outputId": "4cafb971-99ca-44b5-df9f-86406fcc07af"
      },
      "outputs": [
        {
          "data": {
            "text/plain": [
              "diposting_oleh             0\n",
              "sedang_pembangunan      1975\n",
              "disetujui_pemerintah       0\n",
              "total_ruangan           1380\n",
              "tipe_a_atau_b              0\n",
              "kaki_persegi            1686\n",
              "siap_pindah                0\n",
              "dijual_kembali             0\n",
              "alamat                  2015\n",
              "longitude               3443\n",
              "latitude                   0\n",
              "harga                      0\n",
              "temp                       0\n",
              "dtype: int64"
            ]
          },
          "execution_count": 19,
          "metadata": {},
          "output_type": "execute_result"
        }
      ],
      "source": [
        "# mengecek null values\n",
        "df.isnull().sum(axis = 0)"
      ]
    },
    {
      "cell_type": "code",
      "execution_count": 20,
      "metadata": {
        "colab": {
          "base_uri": "https://localhost:8080/"
        },
        "id": "jFzvPLMXPjea",
        "outputId": "0d656950-2134-416a-c741-4bcf1ca2f7f4"
      },
      "outputs": [
        {
          "name": "stdout",
          "output_type": "stream",
          "text": [
            "jumlah outlier kolom total_ruangan: 271\n",
            "jumlah outlier kolom kaki_persegi: 1626\n"
          ]
        }
      ],
      "source": [
        "# Menghitung Outlier\n",
        "for col in ['total_ruangan', 'kaki_persegi']:\n",
        "  a = pd.DataFrame(df[df[col].notnull()][col].astype(float))\n",
        "  Q1 = a[col].quantile(0.25)\n",
        "  Q3 = a[col].quantile(0.75)\n",
        "  IQR = Q3 - Q1\n",
        "  jumlah_outlier = a[((a[col] < (Q1 - 1.5 * IQR)) |(a[col] > (Q3 + 1.5 * IQR)))][col].count()\n",
        "  print(\"jumlah outlier kolom \"+col+\": \"+str(jumlah_outlier))"
      ]
    },
    {
      "cell_type": "code",
      "execution_count": 21,
      "metadata": {
        "id": "rq7RN1n60E8G"
      },
      "outputs": [],
      "source": [
        "#menghitung mean untuk nilai pada kolom kaki_persegi dan total_ruangan yang tidak bernilai null\n",
        "median_kaki_persegi = df[\"kaki_persegi\"].astype(float).median()\n",
        "\n",
        "median_total_ruangan = round(df[\"total_ruangan\"][df['total_ruangan'].notnull()].astype(int).median())"
      ]
    },
    {
      "cell_type": "code",
      "execution_count": 22,
      "metadata": {
        "id": "mNaYPLANdpB1"
      },
      "outputs": [],
      "source": [
        "# Me-replace null value dengan modus untuk data kategorik dan median atau mean untuk data continue\n",
        "df['sedang_pembangunan'].fillna(df['sedang_pembangunan'].mode()[0], inplace = True)\n",
        "df['total_ruangan'].fillna(median_total_ruangan, inplace = True)\n",
        "df['kaki_persegi'].fillna(median_kaki_persegi, inplace = True)"
      ]
    },
    {
      "cell_type": "code",
      "execution_count": 23,
      "metadata": {
        "id": "08h9GlvzYSbE"
      },
      "outputs": [],
      "source": [
        "alamat_null = pd.DataFrame(df[(df['alamat'].isnull()) & (~df['longitude'].isnull()) & (~df['latitude'].isnull())])"
      ]
    },
    {
      "cell_type": "code",
      "execution_count": 24,
      "metadata": {
        "colab": {
          "base_uri": "https://localhost:8080/"
        },
        "id": "8JbWBDqkdVjc",
        "outputId": "cce96c49-4102-48f8-a451-f000a8e18104"
      },
      "outputs": [
        {
          "data": {
            "text/plain": [
              "diposting_oleh             0\n",
              "sedang_pembangunan         0\n",
              "disetujui_pemerintah       0\n",
              "total_ruangan              0\n",
              "tipe_a_atau_b              0\n",
              "kaki_persegi               0\n",
              "siap_pindah                0\n",
              "dijual_kembali             0\n",
              "alamat                   229\n",
              "longitude               3443\n",
              "latitude                   0\n",
              "harga                      0\n",
              "temp                       0\n",
              "dtype: int64"
            ]
          },
          "execution_count": 24,
          "metadata": {},
          "output_type": "execute_result"
        }
      ],
      "source": [
        "# mereplace null values untuk kolom alamat\n",
        "locator = Nominatim(user_agent='myGeocoder')\n",
        "for i in alamat_null.index:\n",
        "      coordinates = str(df['latitude'][i])+','+str(df['longitude'][i])\n",
        "      location = locator.reverse(coordinates)\n",
        "      df['alamat'][i] = location.address\n",
        "df.isnull().sum(axis = 0)"
      ]
    },
    {
      "cell_type": "code",
      "execution_count": 25,
      "metadata": {
        "id": "H6lgzBkikvzO"
      },
      "outputs": [],
      "source": [
        "longitude_null = pd.DataFrame(df[(~df['alamat'].isnull()) & (df['longitude'].isnull()) & (~df['latitude'].isnull())])"
      ]
    },
    {
      "cell_type": "code",
      "execution_count": 26,
      "metadata": {
        "colab": {
          "base_uri": "https://localhost:8080/"
        },
        "id": "C6xXistbliS-",
        "outputId": "78ecc9f2-6792-4651-cfd9-50c98ff587ca"
      },
      "outputs": [
        {
          "data": {
            "text/plain": [
              "diposting_oleh             0\n",
              "sedang_pembangunan         0\n",
              "disetujui_pemerintah       0\n",
              "total_ruangan              0\n",
              "tipe_a_atau_b              0\n",
              "kaki_persegi               0\n",
              "siap_pindah                0\n",
              "dijual_kembali             0\n",
              "alamat                   229\n",
              "longitude               1232\n",
              "latitude                   0\n",
              "harga                      0\n",
              "temp                       0\n",
              "dtype: int64"
            ]
          },
          "execution_count": 26,
          "metadata": {},
          "output_type": "execute_result"
        }
      ],
      "source": [
        "# mereplace null values untuk kolom longitude\n",
        "locator = Nominatim(user_agent='myGeocoder')\n",
        "for i in longitude_null.index:\n",
        "   if (df['alamat'][i] != df['alamat'][1638]) and (df['alamat'][i] != df['alamat'][2991]) and (df['alamat'][i] != df['alamat'][7454]) and (df['alamat'][i] != df['alamat'][10506]) and (df['alamat'][i] != df['alamat'][23042]):\n",
        "      location = locator.geocode(df['alamat'][i])\n",
        "      if location != None:\n",
        "        df['longitude'][i] = location.longitude\n",
        "df.isnull().sum(axis = 0)"
      ]
    },
    {
      "cell_type": "code",
      "execution_count": 27,
      "metadata": {
        "colab": {
          "base_uri": "https://localhost:8080/"
        },
        "id": "YZ0tRLNro331",
        "outputId": "c0c69ab3-761a-4cad-f5aa-64bb8f5e227e"
      },
      "outputs": [
        {
          "data": {
            "text/plain": [
              "diposting_oleh          0\n",
              "sedang_pembangunan      0\n",
              "disetujui_pemerintah    0\n",
              "total_ruangan           0\n",
              "tipe_a_atau_b           0\n",
              "kaki_persegi            0\n",
              "siap_pindah             0\n",
              "dijual_kembali          0\n",
              "alamat                  0\n",
              "longitude               0\n",
              "latitude                0\n",
              "harga                   0\n",
              "temp                    0\n",
              "dtype: int64"
            ]
          },
          "execution_count": 27,
          "metadata": {},
          "output_type": "execute_result"
        }
      ],
      "source": [
        "# drop sisa null values\n",
        "df.dropna(inplace=True)\n",
        "df.isnull().sum(axis = 0)"
      ]
    },
    {
      "cell_type": "code",
      "execution_count": 28,
      "metadata": {
        "id": "OUqHFZHCsprk"
      },
      "outputs": [],
      "source": [
        "# Mengubah tipe data untuk setiap kolom yang tidak sesuai\n",
        "df[\"sedang_pembangunan\"] = df[\"sedang_pembangunan\"].astype(int)\n",
        "df[\"total_ruangan\"] = df[\"total_ruangan\"].astype(int)\n",
        "df[\"siap_pindah\"] = df[\"siap_pindah\"].astype(int)\n",
        "df[\"dijual_kembali\"] = df[\"dijual_kembali\"].astype(int)\n",
        "df[\"kaki_persegi\"] = df[\"kaki_persegi\"].astype(float)"
      ]
    },
    {
      "cell_type": "code",
      "execution_count": 29,
      "metadata": {
        "colab": {
          "base_uri": "https://localhost:8080/"
        },
        "id": "Ori_pzqzdpB0",
        "outputId": "3f6bb221-5092-41e6-a905-0dca1d5e42ce"
      },
      "outputs": [
        {
          "name": "stdout",
          "output_type": "stream",
          "text": [
            "diposting_oleh           object\n",
            "sedang_pembangunan        int64\n",
            "disetujui_pemerintah      int64\n",
            "total_ruangan             int64\n",
            "tipe_a_atau_b            object\n",
            "kaki_persegi            float64\n",
            "siap_pindah               int64\n",
            "dijual_kembali            int64\n",
            "alamat                   object\n",
            "longitude               float64\n",
            "latitude                float64\n",
            "harga                   float64\n",
            "temp                    float64\n",
            "dtype: object\n"
          ]
        }
      ],
      "source": [
        "# Mengecek data setelah dilakukan konversi tipe data\n",
        "print(df.dtypes)"
      ]
    },
    {
      "cell_type": "code",
      "execution_count": 30,
      "metadata": {
        "id": "E7wimw-170lG"
      },
      "outputs": [],
      "source": [
        "# Melakukan encoding untuk kolom tipe_a_atau_b dan kolom diposting_oleh\n",
        "label_encoder = preprocessing.LabelEncoder()\n",
        "\n",
        "df['tipe_a_atau_b'] = label_encoder.fit_transform(df['tipe_a_atau_b'])\n",
        "\n",
        "df['diposting_oleh'] = label_encoder.fit_transform(df['diposting_oleh'])"
      ]
    },
    {
      "cell_type": "code",
      "execution_count": 31,
      "metadata": {
        "colab": {
          "base_uri": "https://localhost:8080/",
          "height": 322
        },
        "id": "1XQQ1myhCGF1",
        "outputId": "c01ec2cd-b006-4ed1-cba4-df2a91c1a651"
      },
      "outputs": [
        {
          "data": {
            "text/html": [
              "\n",
              "  <div id=\"df-6edaa40b-7df2-4a8c-93b0-8a383116b09a\">\n",
              "    <div class=\"colab-df-container\">\n",
              "      <div>\n",
              "<style scoped>\n",
              "    .dataframe tbody tr th:only-of-type {\n",
              "        vertical-align: middle;\n",
              "    }\n",
              "\n",
              "    .dataframe tbody tr th {\n",
              "        vertical-align: top;\n",
              "    }\n",
              "\n",
              "    .dataframe thead th {\n",
              "        text-align: right;\n",
              "    }\n",
              "</style>\n",
              "<table border=\"1\" class=\"dataframe\">\n",
              "  <thead>\n",
              "    <tr style=\"text-align: right;\">\n",
              "      <th></th>\n",
              "      <th>diposting_oleh</th>\n",
              "      <th>sedang_pembangunan</th>\n",
              "      <th>disetujui_pemerintah</th>\n",
              "      <th>total_ruangan</th>\n",
              "      <th>tipe_a_atau_b</th>\n",
              "      <th>kaki_persegi</th>\n",
              "      <th>siap_pindah</th>\n",
              "      <th>dijual_kembali</th>\n",
              "      <th>alamat</th>\n",
              "      <th>longitude</th>\n",
              "      <th>latitude</th>\n",
              "      <th>harga</th>\n",
              "      <th>temp</th>\n",
              "    </tr>\n",
              "  </thead>\n",
              "  <tbody>\n",
              "    <tr>\n",
              "      <th>0</th>\n",
              "      <td>2</td>\n",
              "      <td>0</td>\n",
              "      <td>0</td>\n",
              "      <td>2</td>\n",
              "      <td>0</td>\n",
              "      <td>1300.236407</td>\n",
              "      <td>1</td>\n",
              "      <td>1</td>\n",
              "      <td>Ksfc Layout,Bangalore</td>\n",
              "      <td>77.597960</td>\n",
              "      <td>12.969910</td>\n",
              "      <td>55.0</td>\n",
              "      <td>12.969910</td>\n",
              "    </tr>\n",
              "    <tr>\n",
              "      <th>1</th>\n",
              "      <td>1</td>\n",
              "      <td>0</td>\n",
              "      <td>0</td>\n",
              "      <td>2</td>\n",
              "      <td>0</td>\n",
              "      <td>1275.000000</td>\n",
              "      <td>1</td>\n",
              "      <td>1</td>\n",
              "      <td>Vishweshwara Nagar,Mysore</td>\n",
              "      <td>76.644605</td>\n",
              "      <td>12.274538</td>\n",
              "      <td>51.0</td>\n",
              "      <td>12.274538</td>\n",
              "    </tr>\n",
              "    <tr>\n",
              "      <th>2</th>\n",
              "      <td>2</td>\n",
              "      <td>0</td>\n",
              "      <td>0</td>\n",
              "      <td>2</td>\n",
              "      <td>0</td>\n",
              "      <td>933.159722</td>\n",
              "      <td>1</td>\n",
              "      <td>1</td>\n",
              "      <td>Jigani,Bangalore</td>\n",
              "      <td>77.632191</td>\n",
              "      <td>12.778033</td>\n",
              "      <td>43.0</td>\n",
              "      <td>12.778033</td>\n",
              "    </tr>\n",
              "    <tr>\n",
              "      <th>3</th>\n",
              "      <td>2</td>\n",
              "      <td>0</td>\n",
              "      <td>1</td>\n",
              "      <td>2</td>\n",
              "      <td>0</td>\n",
              "      <td>929.921143</td>\n",
              "      <td>1</td>\n",
              "      <td>1</td>\n",
              "      <td>Sector-1 Vaishali,Ghaziabad</td>\n",
              "      <td>77.344500</td>\n",
              "      <td>28.642300</td>\n",
              "      <td>62.5</td>\n",
              "      <td>28.642300</td>\n",
              "    </tr>\n",
              "    <tr>\n",
              "      <th>4</th>\n",
              "      <td>1</td>\n",
              "      <td>1</td>\n",
              "      <td>0</td>\n",
              "      <td>2</td>\n",
              "      <td>0</td>\n",
              "      <td>999.009247</td>\n",
              "      <td>0</td>\n",
              "      <td>1</td>\n",
              "      <td>New Town,Kolkata</td>\n",
              "      <td>88.484911</td>\n",
              "      <td>22.592200</td>\n",
              "      <td>60.5</td>\n",
              "      <td>22.592200</td>\n",
              "    </tr>\n",
              "  </tbody>\n",
              "</table>\n",
              "</div>\n",
              "      <button class=\"colab-df-convert\" onclick=\"convertToInteractive('df-6edaa40b-7df2-4a8c-93b0-8a383116b09a')\"\n",
              "              title=\"Convert this dataframe to an interactive table.\"\n",
              "              style=\"display:none;\">\n",
              "        \n",
              "  <svg xmlns=\"http://www.w3.org/2000/svg\" height=\"24px\"viewBox=\"0 0 24 24\"\n",
              "       width=\"24px\">\n",
              "    <path d=\"M0 0h24v24H0V0z\" fill=\"none\"/>\n",
              "    <path d=\"M18.56 5.44l.94 2.06.94-2.06 2.06-.94-2.06-.94-.94-2.06-.94 2.06-2.06.94zm-11 1L8.5 8.5l.94-2.06 2.06-.94-2.06-.94L8.5 2.5l-.94 2.06-2.06.94zm10 10l.94 2.06.94-2.06 2.06-.94-2.06-.94-.94-2.06-.94 2.06-2.06.94z\"/><path d=\"M17.41 7.96l-1.37-1.37c-.4-.4-.92-.59-1.43-.59-.52 0-1.04.2-1.43.59L10.3 9.45l-7.72 7.72c-.78.78-.78 2.05 0 2.83L4 21.41c.39.39.9.59 1.41.59.51 0 1.02-.2 1.41-.59l7.78-7.78 2.81-2.81c.8-.78.8-2.07 0-2.86zM5.41 20L4 18.59l7.72-7.72 1.47 1.35L5.41 20z\"/>\n",
              "  </svg>\n",
              "      </button>\n",
              "      \n",
              "  <style>\n",
              "    .colab-df-container {\n",
              "      display:flex;\n",
              "      flex-wrap:wrap;\n",
              "      gap: 12px;\n",
              "    }\n",
              "\n",
              "    .colab-df-convert {\n",
              "      background-color: #E8F0FE;\n",
              "      border: none;\n",
              "      border-radius: 50%;\n",
              "      cursor: pointer;\n",
              "      display: none;\n",
              "      fill: #1967D2;\n",
              "      height: 32px;\n",
              "      padding: 0 0 0 0;\n",
              "      width: 32px;\n",
              "    }\n",
              "\n",
              "    .colab-df-convert:hover {\n",
              "      background-color: #E2EBFA;\n",
              "      box-shadow: 0px 1px 2px rgba(60, 64, 67, 0.3), 0px 1px 3px 1px rgba(60, 64, 67, 0.15);\n",
              "      fill: #174EA6;\n",
              "    }\n",
              "\n",
              "    [theme=dark] .colab-df-convert {\n",
              "      background-color: #3B4455;\n",
              "      fill: #D2E3FC;\n",
              "    }\n",
              "\n",
              "    [theme=dark] .colab-df-convert:hover {\n",
              "      background-color: #434B5C;\n",
              "      box-shadow: 0px 1px 3px 1px rgba(0, 0, 0, 0.15);\n",
              "      filter: drop-shadow(0px 1px 2px rgba(0, 0, 0, 0.3));\n",
              "      fill: #FFFFFF;\n",
              "    }\n",
              "  </style>\n",
              "\n",
              "      <script>\n",
              "        const buttonEl =\n",
              "          document.querySelector('#df-6edaa40b-7df2-4a8c-93b0-8a383116b09a button.colab-df-convert');\n",
              "        buttonEl.style.display =\n",
              "          google.colab.kernel.accessAllowed ? 'block' : 'none';\n",
              "\n",
              "        async function convertToInteractive(key) {\n",
              "          const element = document.querySelector('#df-6edaa40b-7df2-4a8c-93b0-8a383116b09a');\n",
              "          const dataTable =\n",
              "            await google.colab.kernel.invokeFunction('convertToInteractive',\n",
              "                                                     [key], {});\n",
              "          if (!dataTable) return;\n",
              "\n",
              "          const docLinkHtml = 'Like what you see? Visit the ' +\n",
              "            '<a target=\"_blank\" href=https://colab.research.google.com/notebooks/data_table.ipynb>data table notebook</a>'\n",
              "            + ' to learn more about interactive tables.';\n",
              "          element.innerHTML = '';\n",
              "          dataTable['output_type'] = 'display_data';\n",
              "          await google.colab.output.renderOutput(dataTable, element);\n",
              "          const docLink = document.createElement('div');\n",
              "          docLink.innerHTML = docLinkHtml;\n",
              "          element.appendChild(docLink);\n",
              "        }\n",
              "      </script>\n",
              "    </div>\n",
              "  </div>\n",
              "  "
            ],
            "text/plain": [
              "   diposting_oleh  sedang_pembangunan  disetujui_pemerintah  total_ruangan  \\\n",
              "0               2                   0                     0              2   \n",
              "1               1                   0                     0              2   \n",
              "2               2                   0                     0              2   \n",
              "3               2                   0                     1              2   \n",
              "4               1                   1                     0              2   \n",
              "\n",
              "   tipe_a_atau_b  kaki_persegi  siap_pindah  dijual_kembali  \\\n",
              "0              0   1300.236407            1               1   \n",
              "1              0   1275.000000            1               1   \n",
              "2              0    933.159722            1               1   \n",
              "3              0    929.921143            1               1   \n",
              "4              0    999.009247            0               1   \n",
              "\n",
              "                        alamat  longitude   latitude  harga       temp  \n",
              "0        Ksfc Layout,Bangalore  77.597960  12.969910   55.0  12.969910  \n",
              "1    Vishweshwara Nagar,Mysore  76.644605  12.274538   51.0  12.274538  \n",
              "2             Jigani,Bangalore  77.632191  12.778033   43.0  12.778033  \n",
              "3  Sector-1 Vaishali,Ghaziabad  77.344500  28.642300   62.5  28.642300  \n",
              "4             New Town,Kolkata  88.484911  22.592200   60.5  22.592200  "
            ]
          },
          "execution_count": 31,
          "metadata": {},
          "output_type": "execute_result"
        }
      ],
      "source": [
        "df.head()"
      ]
    },
    {
      "cell_type": "code",
      "execution_count": 32,
      "metadata": {
        "colab": {
          "base_uri": "https://localhost:8080/"
        },
        "id": "1GQAC-9vDDj_",
        "outputId": "8e9d670f-b955-4e50-ec91-f226d83868af"
      },
      "outputs": [
        {
          "data": {
            "text/plain": [
              "232"
            ]
          },
          "execution_count": 32,
          "metadata": {},
          "output_type": "execute_result"
        }
      ],
      "source": [
        "# mengecek data duplikat\n",
        "df.duplicated().sum()"
      ]
    },
    {
      "cell_type": "code",
      "execution_count": 33,
      "metadata": {
        "id": "6dK605o3DQpw"
      },
      "outputs": [],
      "source": [
        "# menghapus data duplikat\n",
        "df.drop_duplicates(inplace=True)"
      ]
    },
    {
      "cell_type": "code",
      "execution_count": 34,
      "metadata": {
        "colab": {
          "base_uri": "https://localhost:8080/"
        },
        "id": "i8Fo20DhDWYn",
        "outputId": "8392f4a0-6ad2-4f04-9e21-722219a9a709"
      },
      "outputs": [
        {
          "data": {
            "text/plain": [
              "0"
            ]
          },
          "execution_count": 34,
          "metadata": {},
          "output_type": "execute_result"
        }
      ],
      "source": [
        "# mengecek kembali data duplikat setelah dihapus\n",
        "df.duplicated().sum()"
      ]
    },
    {
      "cell_type": "code",
      "execution_count": 35,
      "metadata": {
        "colab": {
          "base_uri": "https://localhost:8080/"
        },
        "id": "h7LKcUhLdpB_",
        "outputId": "211dc8c9-abeb-449f-a7a6-e2214f7fd981"
      },
      "outputs": [
        {
          "name": "stdout",
          "output_type": "stream",
          "text": [
            "IQR kaki_persegi: 558.4943878500001\n",
            "IQR harga: 62.0\n",
            "IQR total_ruangan: 1.0\n",
            "IQR longitude: 3.9722309999999936\n",
            "IQR latitude: 8.463072999999998\n"
          ]
        }
      ],
      "source": [
        "# Check outlier data for numeric values\n",
        "for i in ['kaki_persegi', 'harga', 'total_ruangan','longitude', 'latitude']:\n",
        "  Q1 = df[i].quantile(0.25)\n",
        "  Q3 = df[i].quantile(0.75)\n",
        "  IQR = Q3 - Q1\n",
        "  print(\"IQR \"+i+\": \"+str(IQR))"
      ]
    },
    {
      "cell_type": "code",
      "execution_count": 36,
      "metadata": {
        "id": "0hjIS9GzdpB_"
      },
      "outputs": [],
      "source": [
        "# Clear outlier data from dataset\n",
        "for i in ['kaki_persegi', 'harga', 'total_ruangan', 'longitude', 'latitude']:\n",
        "  Q1 = df[i].quantile(0.25)\n",
        "  Q3 = df[i].quantile(0.75)\n",
        "  IQR = Q3 - Q1\n",
        "  df = df[~((df[i] < (Q1 - 1.5 * IQR)) |(df[i] > (Q3 + 1.5 * IQR)))]"
      ]
    },
    {
      "cell_type": "code",
      "execution_count": 37,
      "metadata": {
        "colab": {
          "base_uri": "https://localhost:8080/"
        },
        "id": "70mA0fUoED3J",
        "outputId": "72d6c183-263d-479d-c2b9-a993c41488bb"
      },
      "outputs": [
        {
          "data": {
            "text/plain": [
              "(21558, 13)"
            ]
          },
          "execution_count": 37,
          "metadata": {},
          "output_type": "execute_result"
        }
      ],
      "source": [
        "df.shape"
      ]
    },
    {
      "cell_type": "code",
      "execution_count": 38,
      "metadata": {
        "id": "oL1jUjVnuu3C"
      },
      "outputs": [],
      "source": [
        "#Kategorisasi Harga\n",
        "def categorizing_data_harga(cell):\n",
        "    if cell > 150:\n",
        "        return \">150\"\n",
        "    elif cell >= 100:\n",
        "        return \"100-150\"\n",
        "    elif cell >= 50:\n",
        "        return \"50-100\"\n",
        "    else:\n",
        "        return \"<50\"\n",
        "\n",
        "df['kategori_harga'] = df.apply(lambda cell: categorizing_data_harga(cell.harga), axis=1)"
      ]
    },
    {
      "cell_type": "code",
      "execution_count": 39,
      "metadata": {
        "id": "az2ugv0Gvwgx"
      },
      "outputs": [],
      "source": [
        "#Kategorisasi Luas\n",
        "def categorizing_data_luas(cell):\n",
        "    if cell > 2000:\n",
        "        return \">2000\"\n",
        "    elif cell >= 1500:\n",
        "        return \"1500-2000\"\n",
        "    elif cell >= 1000:\n",
        "        return \"1000-1500\"\n",
        "    elif cell >= 500:\n",
        "        return \"500-1000\"\n",
        "    else:\n",
        "        return \"<500\"\n",
        "\n",
        "df['kategori_luas'] = df.apply(lambda cell: categorizing_data_luas(cell.kaki_persegi), axis=1)"
      ]
    },
    {
      "cell_type": "code",
      "execution_count": 40,
      "metadata": {
        "colab": {
          "base_uri": "https://localhost:8080/",
          "height": 340
        },
        "id": "27VHkfkvww3w",
        "outputId": "9311403f-4f8d-4c4a-af9e-bd5954292815"
      },
      "outputs": [
        {
          "data": {
            "text/html": [
              "\n",
              "  <div id=\"df-a4cd966d-c780-459d-82f0-39d76be253da\">\n",
              "    <div class=\"colab-df-container\">\n",
              "      <div>\n",
              "<style scoped>\n",
              "    .dataframe tbody tr th:only-of-type {\n",
              "        vertical-align: middle;\n",
              "    }\n",
              "\n",
              "    .dataframe tbody tr th {\n",
              "        vertical-align: top;\n",
              "    }\n",
              "\n",
              "    .dataframe thead th {\n",
              "        text-align: right;\n",
              "    }\n",
              "</style>\n",
              "<table border=\"1\" class=\"dataframe\">\n",
              "  <thead>\n",
              "    <tr style=\"text-align: right;\">\n",
              "      <th></th>\n",
              "      <th>diposting_oleh</th>\n",
              "      <th>sedang_pembangunan</th>\n",
              "      <th>disetujui_pemerintah</th>\n",
              "      <th>total_ruangan</th>\n",
              "      <th>tipe_a_atau_b</th>\n",
              "      <th>kaki_persegi</th>\n",
              "      <th>siap_pindah</th>\n",
              "      <th>dijual_kembali</th>\n",
              "      <th>alamat</th>\n",
              "      <th>longitude</th>\n",
              "      <th>latitude</th>\n",
              "      <th>harga</th>\n",
              "      <th>temp</th>\n",
              "      <th>kategori_harga</th>\n",
              "      <th>kategori_luas</th>\n",
              "    </tr>\n",
              "  </thead>\n",
              "  <tbody>\n",
              "    <tr>\n",
              "      <th>0</th>\n",
              "      <td>2</td>\n",
              "      <td>0</td>\n",
              "      <td>0</td>\n",
              "      <td>2</td>\n",
              "      <td>0</td>\n",
              "      <td>1300.236407</td>\n",
              "      <td>1</td>\n",
              "      <td>1</td>\n",
              "      <td>Ksfc Layout,Bangalore</td>\n",
              "      <td>77.597960</td>\n",
              "      <td>12.969910</td>\n",
              "      <td>55.0</td>\n",
              "      <td>12.969910</td>\n",
              "      <td>50-100</td>\n",
              "      <td>1000-1500</td>\n",
              "    </tr>\n",
              "    <tr>\n",
              "      <th>1</th>\n",
              "      <td>1</td>\n",
              "      <td>0</td>\n",
              "      <td>0</td>\n",
              "      <td>2</td>\n",
              "      <td>0</td>\n",
              "      <td>1275.000000</td>\n",
              "      <td>1</td>\n",
              "      <td>1</td>\n",
              "      <td>Vishweshwara Nagar,Mysore</td>\n",
              "      <td>76.644605</td>\n",
              "      <td>12.274538</td>\n",
              "      <td>51.0</td>\n",
              "      <td>12.274538</td>\n",
              "      <td>50-100</td>\n",
              "      <td>1000-1500</td>\n",
              "    </tr>\n",
              "    <tr>\n",
              "      <th>2</th>\n",
              "      <td>2</td>\n",
              "      <td>0</td>\n",
              "      <td>0</td>\n",
              "      <td>2</td>\n",
              "      <td>0</td>\n",
              "      <td>933.159722</td>\n",
              "      <td>1</td>\n",
              "      <td>1</td>\n",
              "      <td>Jigani,Bangalore</td>\n",
              "      <td>77.632191</td>\n",
              "      <td>12.778033</td>\n",
              "      <td>43.0</td>\n",
              "      <td>12.778033</td>\n",
              "      <td>&lt;50</td>\n",
              "      <td>500-1000</td>\n",
              "    </tr>\n",
              "    <tr>\n",
              "      <th>3</th>\n",
              "      <td>2</td>\n",
              "      <td>0</td>\n",
              "      <td>1</td>\n",
              "      <td>2</td>\n",
              "      <td>0</td>\n",
              "      <td>929.921143</td>\n",
              "      <td>1</td>\n",
              "      <td>1</td>\n",
              "      <td>Sector-1 Vaishali,Ghaziabad</td>\n",
              "      <td>77.344500</td>\n",
              "      <td>28.642300</td>\n",
              "      <td>62.5</td>\n",
              "      <td>28.642300</td>\n",
              "      <td>50-100</td>\n",
              "      <td>500-1000</td>\n",
              "    </tr>\n",
              "    <tr>\n",
              "      <th>5</th>\n",
              "      <td>2</td>\n",
              "      <td>0</td>\n",
              "      <td>0</td>\n",
              "      <td>3</td>\n",
              "      <td>0</td>\n",
              "      <td>1250.000000</td>\n",
              "      <td>1</td>\n",
              "      <td>1</td>\n",
              "      <td>South Chittoor,Kochi</td>\n",
              "      <td>76.282571</td>\n",
              "      <td>10.033280</td>\n",
              "      <td>42.0</td>\n",
              "      <td>10.033280</td>\n",
              "      <td>&lt;50</td>\n",
              "      <td>1000-1500</td>\n",
              "    </tr>\n",
              "  </tbody>\n",
              "</table>\n",
              "</div>\n",
              "      <button class=\"colab-df-convert\" onclick=\"convertToInteractive('df-a4cd966d-c780-459d-82f0-39d76be253da')\"\n",
              "              title=\"Convert this dataframe to an interactive table.\"\n",
              "              style=\"display:none;\">\n",
              "        \n",
              "  <svg xmlns=\"http://www.w3.org/2000/svg\" height=\"24px\"viewBox=\"0 0 24 24\"\n",
              "       width=\"24px\">\n",
              "    <path d=\"M0 0h24v24H0V0z\" fill=\"none\"/>\n",
              "    <path d=\"M18.56 5.44l.94 2.06.94-2.06 2.06-.94-2.06-.94-.94-2.06-.94 2.06-2.06.94zm-11 1L8.5 8.5l.94-2.06 2.06-.94-2.06-.94L8.5 2.5l-.94 2.06-2.06.94zm10 10l.94 2.06.94-2.06 2.06-.94-2.06-.94-.94-2.06-.94 2.06-2.06.94z\"/><path d=\"M17.41 7.96l-1.37-1.37c-.4-.4-.92-.59-1.43-.59-.52 0-1.04.2-1.43.59L10.3 9.45l-7.72 7.72c-.78.78-.78 2.05 0 2.83L4 21.41c.39.39.9.59 1.41.59.51 0 1.02-.2 1.41-.59l7.78-7.78 2.81-2.81c.8-.78.8-2.07 0-2.86zM5.41 20L4 18.59l7.72-7.72 1.47 1.35L5.41 20z\"/>\n",
              "  </svg>\n",
              "      </button>\n",
              "      \n",
              "  <style>\n",
              "    .colab-df-container {\n",
              "      display:flex;\n",
              "      flex-wrap:wrap;\n",
              "      gap: 12px;\n",
              "    }\n",
              "\n",
              "    .colab-df-convert {\n",
              "      background-color: #E8F0FE;\n",
              "      border: none;\n",
              "      border-radius: 50%;\n",
              "      cursor: pointer;\n",
              "      display: none;\n",
              "      fill: #1967D2;\n",
              "      height: 32px;\n",
              "      padding: 0 0 0 0;\n",
              "      width: 32px;\n",
              "    }\n",
              "\n",
              "    .colab-df-convert:hover {\n",
              "      background-color: #E2EBFA;\n",
              "      box-shadow: 0px 1px 2px rgba(60, 64, 67, 0.3), 0px 1px 3px 1px rgba(60, 64, 67, 0.15);\n",
              "      fill: #174EA6;\n",
              "    }\n",
              "\n",
              "    [theme=dark] .colab-df-convert {\n",
              "      background-color: #3B4455;\n",
              "      fill: #D2E3FC;\n",
              "    }\n",
              "\n",
              "    [theme=dark] .colab-df-convert:hover {\n",
              "      background-color: #434B5C;\n",
              "      box-shadow: 0px 1px 3px 1px rgba(0, 0, 0, 0.15);\n",
              "      filter: drop-shadow(0px 1px 2px rgba(0, 0, 0, 0.3));\n",
              "      fill: #FFFFFF;\n",
              "    }\n",
              "  </style>\n",
              "\n",
              "      <script>\n",
              "        const buttonEl =\n",
              "          document.querySelector('#df-a4cd966d-c780-459d-82f0-39d76be253da button.colab-df-convert');\n",
              "        buttonEl.style.display =\n",
              "          google.colab.kernel.accessAllowed ? 'block' : 'none';\n",
              "\n",
              "        async function convertToInteractive(key) {\n",
              "          const element = document.querySelector('#df-a4cd966d-c780-459d-82f0-39d76be253da');\n",
              "          const dataTable =\n",
              "            await google.colab.kernel.invokeFunction('convertToInteractive',\n",
              "                                                     [key], {});\n",
              "          if (!dataTable) return;\n",
              "\n",
              "          const docLinkHtml = 'Like what you see? Visit the ' +\n",
              "            '<a target=\"_blank\" href=https://colab.research.google.com/notebooks/data_table.ipynb>data table notebook</a>'\n",
              "            + ' to learn more about interactive tables.';\n",
              "          element.innerHTML = '';\n",
              "          dataTable['output_type'] = 'display_data';\n",
              "          await google.colab.output.renderOutput(dataTable, element);\n",
              "          const docLink = document.createElement('div');\n",
              "          docLink.innerHTML = docLinkHtml;\n",
              "          element.appendChild(docLink);\n",
              "        }\n",
              "      </script>\n",
              "    </div>\n",
              "  </div>\n",
              "  "
            ],
            "text/plain": [
              "   diposting_oleh  sedang_pembangunan  disetujui_pemerintah  total_ruangan  \\\n",
              "0               2                   0                     0              2   \n",
              "1               1                   0                     0              2   \n",
              "2               2                   0                     0              2   \n",
              "3               2                   0                     1              2   \n",
              "5               2                   0                     0              3   \n",
              "\n",
              "   tipe_a_atau_b  kaki_persegi  siap_pindah  dijual_kembali  \\\n",
              "0              0   1300.236407            1               1   \n",
              "1              0   1275.000000            1               1   \n",
              "2              0    933.159722            1               1   \n",
              "3              0    929.921143            1               1   \n",
              "5              0   1250.000000            1               1   \n",
              "\n",
              "                        alamat  longitude   latitude  harga       temp  \\\n",
              "0        Ksfc Layout,Bangalore  77.597960  12.969910   55.0  12.969910   \n",
              "1    Vishweshwara Nagar,Mysore  76.644605  12.274538   51.0  12.274538   \n",
              "2             Jigani,Bangalore  77.632191  12.778033   43.0  12.778033   \n",
              "3  Sector-1 Vaishali,Ghaziabad  77.344500  28.642300   62.5  28.642300   \n",
              "5         South Chittoor,Kochi  76.282571  10.033280   42.0  10.033280   \n",
              "\n",
              "  kategori_harga kategori_luas  \n",
              "0         50-100     1000-1500  \n",
              "1         50-100     1000-1500  \n",
              "2            <50      500-1000  \n",
              "3         50-100      500-1000  \n",
              "5            <50     1000-1500  "
            ]
          },
          "execution_count": 40,
          "metadata": {},
          "output_type": "execute_result"
        }
      ],
      "source": [
        "df.head()"
      ]
    },
    {
      "cell_type": "code",
      "execution_count": 41,
      "metadata": {
        "id": "c0w9xM7-dpCA"
      },
      "outputs": [],
      "source": [
        "# Menghapus kolom tidak perlu\n",
        "df.drop(columns=\"temp\", inplace=True)"
      ]
    },
    {
      "cell_type": "code",
      "execution_count": 42,
      "metadata": {
        "colab": {
          "base_uri": "https://localhost:8080/",
          "height": 340
        },
        "id": "G9NtbqNEdpCA",
        "outputId": "72ccb9fb-e5d4-45c5-b8dd-d5ae69ec676a"
      },
      "outputs": [
        {
          "data": {
            "text/html": [
              "\n",
              "  <div id=\"df-c0d83a99-a588-4740-bb53-151e279e8631\">\n",
              "    <div class=\"colab-df-container\">\n",
              "      <div>\n",
              "<style scoped>\n",
              "    .dataframe tbody tr th:only-of-type {\n",
              "        vertical-align: middle;\n",
              "    }\n",
              "\n",
              "    .dataframe tbody tr th {\n",
              "        vertical-align: top;\n",
              "    }\n",
              "\n",
              "    .dataframe thead th {\n",
              "        text-align: right;\n",
              "    }\n",
              "</style>\n",
              "<table border=\"1\" class=\"dataframe\">\n",
              "  <thead>\n",
              "    <tr style=\"text-align: right;\">\n",
              "      <th></th>\n",
              "      <th>diposting_oleh</th>\n",
              "      <th>sedang_pembangunan</th>\n",
              "      <th>disetujui_pemerintah</th>\n",
              "      <th>total_ruangan</th>\n",
              "      <th>tipe_a_atau_b</th>\n",
              "      <th>kaki_persegi</th>\n",
              "      <th>siap_pindah</th>\n",
              "      <th>dijual_kembali</th>\n",
              "      <th>alamat</th>\n",
              "      <th>longitude</th>\n",
              "      <th>latitude</th>\n",
              "      <th>harga</th>\n",
              "      <th>kategori_harga</th>\n",
              "      <th>kategori_luas</th>\n",
              "    </tr>\n",
              "  </thead>\n",
              "  <tbody>\n",
              "    <tr>\n",
              "      <th>0</th>\n",
              "      <td>2</td>\n",
              "      <td>0</td>\n",
              "      <td>0</td>\n",
              "      <td>2</td>\n",
              "      <td>0</td>\n",
              "      <td>1300.236407</td>\n",
              "      <td>1</td>\n",
              "      <td>1</td>\n",
              "      <td>Ksfc Layout,Bangalore</td>\n",
              "      <td>77.597960</td>\n",
              "      <td>12.969910</td>\n",
              "      <td>55.0</td>\n",
              "      <td>50-100</td>\n",
              "      <td>1000-1500</td>\n",
              "    </tr>\n",
              "    <tr>\n",
              "      <th>1</th>\n",
              "      <td>1</td>\n",
              "      <td>0</td>\n",
              "      <td>0</td>\n",
              "      <td>2</td>\n",
              "      <td>0</td>\n",
              "      <td>1275.000000</td>\n",
              "      <td>1</td>\n",
              "      <td>1</td>\n",
              "      <td>Vishweshwara Nagar,Mysore</td>\n",
              "      <td>76.644605</td>\n",
              "      <td>12.274538</td>\n",
              "      <td>51.0</td>\n",
              "      <td>50-100</td>\n",
              "      <td>1000-1500</td>\n",
              "    </tr>\n",
              "    <tr>\n",
              "      <th>2</th>\n",
              "      <td>2</td>\n",
              "      <td>0</td>\n",
              "      <td>0</td>\n",
              "      <td>2</td>\n",
              "      <td>0</td>\n",
              "      <td>933.159722</td>\n",
              "      <td>1</td>\n",
              "      <td>1</td>\n",
              "      <td>Jigani,Bangalore</td>\n",
              "      <td>77.632191</td>\n",
              "      <td>12.778033</td>\n",
              "      <td>43.0</td>\n",
              "      <td>&lt;50</td>\n",
              "      <td>500-1000</td>\n",
              "    </tr>\n",
              "    <tr>\n",
              "      <th>3</th>\n",
              "      <td>2</td>\n",
              "      <td>0</td>\n",
              "      <td>1</td>\n",
              "      <td>2</td>\n",
              "      <td>0</td>\n",
              "      <td>929.921143</td>\n",
              "      <td>1</td>\n",
              "      <td>1</td>\n",
              "      <td>Sector-1 Vaishali,Ghaziabad</td>\n",
              "      <td>77.344500</td>\n",
              "      <td>28.642300</td>\n",
              "      <td>62.5</td>\n",
              "      <td>50-100</td>\n",
              "      <td>500-1000</td>\n",
              "    </tr>\n",
              "    <tr>\n",
              "      <th>5</th>\n",
              "      <td>2</td>\n",
              "      <td>0</td>\n",
              "      <td>0</td>\n",
              "      <td>3</td>\n",
              "      <td>0</td>\n",
              "      <td>1250.000000</td>\n",
              "      <td>1</td>\n",
              "      <td>1</td>\n",
              "      <td>South Chittoor,Kochi</td>\n",
              "      <td>76.282571</td>\n",
              "      <td>10.033280</td>\n",
              "      <td>42.0</td>\n",
              "      <td>&lt;50</td>\n",
              "      <td>1000-1500</td>\n",
              "    </tr>\n",
              "  </tbody>\n",
              "</table>\n",
              "</div>\n",
              "      <button class=\"colab-df-convert\" onclick=\"convertToInteractive('df-c0d83a99-a588-4740-bb53-151e279e8631')\"\n",
              "              title=\"Convert this dataframe to an interactive table.\"\n",
              "              style=\"display:none;\">\n",
              "        \n",
              "  <svg xmlns=\"http://www.w3.org/2000/svg\" height=\"24px\"viewBox=\"0 0 24 24\"\n",
              "       width=\"24px\">\n",
              "    <path d=\"M0 0h24v24H0V0z\" fill=\"none\"/>\n",
              "    <path d=\"M18.56 5.44l.94 2.06.94-2.06 2.06-.94-2.06-.94-.94-2.06-.94 2.06-2.06.94zm-11 1L8.5 8.5l.94-2.06 2.06-.94-2.06-.94L8.5 2.5l-.94 2.06-2.06.94zm10 10l.94 2.06.94-2.06 2.06-.94-2.06-.94-.94-2.06-.94 2.06-2.06.94z\"/><path d=\"M17.41 7.96l-1.37-1.37c-.4-.4-.92-.59-1.43-.59-.52 0-1.04.2-1.43.59L10.3 9.45l-7.72 7.72c-.78.78-.78 2.05 0 2.83L4 21.41c.39.39.9.59 1.41.59.51 0 1.02-.2 1.41-.59l7.78-7.78 2.81-2.81c.8-.78.8-2.07 0-2.86zM5.41 20L4 18.59l7.72-7.72 1.47 1.35L5.41 20z\"/>\n",
              "  </svg>\n",
              "      </button>\n",
              "      \n",
              "  <style>\n",
              "    .colab-df-container {\n",
              "      display:flex;\n",
              "      flex-wrap:wrap;\n",
              "      gap: 12px;\n",
              "    }\n",
              "\n",
              "    .colab-df-convert {\n",
              "      background-color: #E8F0FE;\n",
              "      border: none;\n",
              "      border-radius: 50%;\n",
              "      cursor: pointer;\n",
              "      display: none;\n",
              "      fill: #1967D2;\n",
              "      height: 32px;\n",
              "      padding: 0 0 0 0;\n",
              "      width: 32px;\n",
              "    }\n",
              "\n",
              "    .colab-df-convert:hover {\n",
              "      background-color: #E2EBFA;\n",
              "      box-shadow: 0px 1px 2px rgba(60, 64, 67, 0.3), 0px 1px 3px 1px rgba(60, 64, 67, 0.15);\n",
              "      fill: #174EA6;\n",
              "    }\n",
              "\n",
              "    [theme=dark] .colab-df-convert {\n",
              "      background-color: #3B4455;\n",
              "      fill: #D2E3FC;\n",
              "    }\n",
              "\n",
              "    [theme=dark] .colab-df-convert:hover {\n",
              "      background-color: #434B5C;\n",
              "      box-shadow: 0px 1px 3px 1px rgba(0, 0, 0, 0.15);\n",
              "      filter: drop-shadow(0px 1px 2px rgba(0, 0, 0, 0.3));\n",
              "      fill: #FFFFFF;\n",
              "    }\n",
              "  </style>\n",
              "\n",
              "      <script>\n",
              "        const buttonEl =\n",
              "          document.querySelector('#df-c0d83a99-a588-4740-bb53-151e279e8631 button.colab-df-convert');\n",
              "        buttonEl.style.display =\n",
              "          google.colab.kernel.accessAllowed ? 'block' : 'none';\n",
              "\n",
              "        async function convertToInteractive(key) {\n",
              "          const element = document.querySelector('#df-c0d83a99-a588-4740-bb53-151e279e8631');\n",
              "          const dataTable =\n",
              "            await google.colab.kernel.invokeFunction('convertToInteractive',\n",
              "                                                     [key], {});\n",
              "          if (!dataTable) return;\n",
              "\n",
              "          const docLinkHtml = 'Like what you see? Visit the ' +\n",
              "            '<a target=\"_blank\" href=https://colab.research.google.com/notebooks/data_table.ipynb>data table notebook</a>'\n",
              "            + ' to learn more about interactive tables.';\n",
              "          element.innerHTML = '';\n",
              "          dataTable['output_type'] = 'display_data';\n",
              "          await google.colab.output.renderOutput(dataTable, element);\n",
              "          const docLink = document.createElement('div');\n",
              "          docLink.innerHTML = docLinkHtml;\n",
              "          element.appendChild(docLink);\n",
              "        }\n",
              "      </script>\n",
              "    </div>\n",
              "  </div>\n",
              "  "
            ],
            "text/plain": [
              "   diposting_oleh  sedang_pembangunan  disetujui_pemerintah  total_ruangan  \\\n",
              "0               2                   0                     0              2   \n",
              "1               1                   0                     0              2   \n",
              "2               2                   0                     0              2   \n",
              "3               2                   0                     1              2   \n",
              "5               2                   0                     0              3   \n",
              "\n",
              "   tipe_a_atau_b  kaki_persegi  siap_pindah  dijual_kembali  \\\n",
              "0              0   1300.236407            1               1   \n",
              "1              0   1275.000000            1               1   \n",
              "2              0    933.159722            1               1   \n",
              "3              0    929.921143            1               1   \n",
              "5              0   1250.000000            1               1   \n",
              "\n",
              "                        alamat  longitude   latitude  harga kategori_harga  \\\n",
              "0        Ksfc Layout,Bangalore  77.597960  12.969910   55.0         50-100   \n",
              "1    Vishweshwara Nagar,Mysore  76.644605  12.274538   51.0         50-100   \n",
              "2             Jigani,Bangalore  77.632191  12.778033   43.0            <50   \n",
              "3  Sector-1 Vaishali,Ghaziabad  77.344500  28.642300   62.5         50-100   \n",
              "5         South Chittoor,Kochi  76.282571  10.033280   42.0            <50   \n",
              "\n",
              "  kategori_luas  \n",
              "0     1000-1500  \n",
              "1     1000-1500  \n",
              "2      500-1000  \n",
              "3      500-1000  \n",
              "5     1000-1500  "
            ]
          },
          "execution_count": 42,
          "metadata": {},
          "output_type": "execute_result"
        }
      ],
      "source": [
        "# get view of data after cleansing\n",
        "df.head()"
      ]
    },
    {
      "cell_type": "code",
      "execution_count": 43,
      "metadata": {
        "colab": {
          "base_uri": "https://localhost:8080/",
          "height": 282
        },
        "id": "AxxwyhE9dpCA",
        "outputId": "1af2af3e-ac1a-4cd1-b1bb-cf4f4317fbff"
      },
      "outputs": [
        {
          "data": {
            "text/plain": [
              "<function matplotlib.pyplot.show(*args, **kw)>"
            ]
          },
          "execution_count": 43,
          "metadata": {},
          "output_type": "execute_result"
        },
        {
          "data": {
            "image/png": "[encoded data removed]",
            "text/plain": [
              "<Figure size 432x288 with 1 Axes>"
            ]
          },
          "metadata": {
            "needs_background": "light"
          },
          "output_type": "display_data"
        }
      ],
      "source": [
        "# visualisasi outlier kolom kaki_persegi\n",
        "fig = plt.figure()\n",
        "plt.boxplot(df['kaki_persegi'])\n",
        "plt.show"
      ]
    },
    {
      "cell_type": "code",
      "execution_count": 44,
      "metadata": {
        "colab": {
          "base_uri": "https://localhost:8080/",
          "height": 282
        },
        "id": "GUncwHoqdpCA",
        "outputId": "4f6518cc-4b3a-49af-ec0d-179f600643fc"
      },
      "outputs": [
        {
          "data": {
            "text/plain": [
              "<function matplotlib.pyplot.show(*args, **kw)>"
            ]
          },
          "execution_count": 44,
          "metadata": {},
          "output_type": "execute_result"
        },
        {
          "data": {
            "image/png": "[encoded data removed]",
            "text/plain": [
              "<Figure size 432x288 with 1 Axes>"
            ]
          },
          "metadata": {
            "needs_background": "light"
          },
          "output_type": "display_data"
        }
      ],
      "source": [
        "# visualisasi outlier kolom harga\n",
        "fig = plt.figure()\n",
        "plt.boxplot(df['harga'])\n",
        "plt.show"
      ]
    },
    {
      "cell_type": "code",
      "execution_count": 45,
      "metadata": {
        "colab": {
          "base_uri": "https://localhost:8080/",
          "height": 282
        },
        "id": "9vn-H8pkqP6n",
        "outputId": "6a772570-3d21-488a-dfe7-6f6994793130"
      },
      "outputs": [
        {
          "data": {
            "text/plain": [
              "<function matplotlib.pyplot.show(*args, **kw)>"
            ]
          },
          "execution_count": 45,
          "metadata": {},
          "output_type": "execute_result"
        },
        {
          "data": {
            "image/png": "[encoded data removed]",
            "text/plain": [
              "<Figure size 432x288 with 1 Axes>"
            ]
          },
          "metadata": {
            "needs_background": "light"
          },
          "output_type": "display_data"
        }
      ],
      "source": [
        "# visualisasi outlier kolom total_ruangan\n",
        "fig = plt.figure()\n",
        "plt.boxplot(df['total_ruangan'])\n",
        "plt.show"
      ]
    },
    {
      "cell_type": "code",
      "execution_count": 46,
      "metadata": {
        "colab": {
          "base_uri": "https://localhost:8080/",
          "height": 282
        },
        "id": "VPCIQmkPkjb-",
        "outputId": "38d39819-2c08-4046-c83f-46225ef54f7c"
      },
      "outputs": [
        {
          "data": {
            "text/plain": [
              "<function matplotlib.pyplot.show(*args, **kw)>"
            ]
          },
          "execution_count": 46,
          "metadata": {},
          "output_type": "execute_result"
        },
        {
          "data": {
            "image/png": "[encoded data removed]",
            "text/plain": [
              "<Figure size 432x288 with 1 Axes>"
            ]
          },
          "metadata": {
            "needs_background": "light"
          },
          "output_type": "display_data"
        }
      ],
      "source": [
        "# visualisasi outlier kolom longitude\n",
        "fig = plt.figure()\n",
        "plt.boxplot(df['longitude'])\n",
        "plt.show"
      ]
    },
    {
      "cell_type": "code",
      "execution_count": 47,
      "metadata": {
        "colab": {
          "base_uri": "https://localhost:8080/",
          "height": 282
        },
        "id": "fgKI0S9PkmSx",
        "outputId": "6cef1a58-90b5-4209-e9b3-3d9170fd5b72"
      },
      "outputs": [
        {
          "data": {
            "text/plain": [
              "<function matplotlib.pyplot.show(*args, **kw)>"
            ]
          },
          "execution_count": 47,
          "metadata": {},
          "output_type": "execute_result"
        },
        {
          "data": {
            "image/png": "[encoded data removed]",
            "text/plain": [
              "<Figure size 432x288 with 1 Axes>"
            ]
          },
          "metadata": {
            "needs_background": "light"
          },
          "output_type": "display_data"
        }
      ],
      "source": [
        "# visualisasi outlier kolom latitude\n",
        "fig = plt.figure()\n",
        "plt.boxplot(df['latitude'])\n",
        "plt.show"
      ]
    },
    {
      "cell_type": "code",
      "execution_count": 48,
      "metadata": {
        "colab": {
          "base_uri": "https://localhost:8080/",
          "height": 17
        },
        "id": "R0kEOtzNdpCB",
        "outputId": "ba397c52-18b2-4813-eb0e-8ba3cc8fad29"
      },
      "outputs": [
        {
          "data": {
            "application/javascript": "\n    async function download(id, filename, size) {\n      if (!google.colab.kernel.accessAllowed) {\n        return;\n      }\n      const div = document.createElement('div');\n      const label = document.createElement('label');\n      label.textContent = `Downloading \"${filename}\": `;\n      div.appendChild(label);\n      const progress = document.createElement('progress');\n      progress.max = size;\n      div.appendChild(progress);\n      document.body.appendChild(div);\n\n      const buffers = [];\n      let downloaded = 0;\n\n      const channel = await google.colab.kernel.comms.open(id);\n      // Send a message to notify the kernel that we're ready.\n      channel.send({})\n\n      for await (const message of channel.messages) {\n        // Send a message to notify the kernel that we're ready.\n        channel.send({})\n        if (message.buffers) {\n          for (const buffer of message.buffers) {\n            buffers.push(buffer);\n            downloaded += buffer.byteLength;\n            progress.value = downloaded;\n          }\n        }\n      }\n      const blob = new Blob(buffers, {type: 'application/binary'});\n      const a = document.createElement('a');\n      a.href = window.URL.createObjectURL(blob);\n      a.download = filename;\n      div.appendChild(a);\n      a.click();\n      div.remove();\n    }\n  ",
            "text/plain": [
              "<IPython.core.display.Javascript object>"
            ]
          },
          "metadata": {},
          "output_type": "display_data"
        },
        {
          "data": {
            "application/javascript": "download(\"download_098ad5af-2089-41ad-91e1-d10ba3da419c\", \"Tugas4_2006531825_AmiraHusnaNurAdilah.csv\", 2029338)",
            "text/plain": [
              "<IPython.core.display.Javascript object>"
            ]
          },
          "metadata": {},
          "output_type": "display_data"
        }
      ],
      "source": [
        "# download cleaned data\n",
        "from google.colab import files\n",
        "df.to_csv('Tugas4_2006531825_AmiraHusnaNurAdilah.csv', index = None, header = True)\n",
        "files.download('Tugas4_2006531825_AmiraHusnaNurAdilah.csv')"
      ]
    }
  ],
  "metadata": {
    "colab": {
      "provenance": []
    },
    "kernelspec": {
      "display_name": "Python 3.9.7 64-bit",
      "language": "python",
      "name": "python3"
    },
    "language_info": {
      "codemirror_mode": {
        "name": "ipython",
        "version": 3
      },
      "file_extension": ".py",
      "mimetype": "text/x-python",
      "name": "python",
      "nbconvert_exporter": "python",
      "pygments_lexer": "ipython3",
      "version": "3.9.7"
    },
    "vscode": {
      "interpreter": {
        "hash": "f6246b25e200e4c5124e3e61789ac81350562f0761bbcf92ad9e48654207659c"
      }
    }
  },
  "nbformat": 4,
  "nbformat_minor": 0
}
